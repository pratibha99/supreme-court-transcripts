{
 "cells": [
  {
   "cell_type": "markdown",
   "metadata": {},
   "source": [
    "## **Supreme Court Transcripts Database Design**\n",
    "\n",
    "### Contents:\n",
    " 1. Finding Justices Present\n",
    " 2. Date, Year\n",
    " 3. Appearances\n",
    " 4. Sentiment Analysis \n",
    " 5. Building the DataFrame\n",
    " "
   ]
  },
  {
   "cell_type": "code",
   "execution_count": 437,
   "metadata": {
    "scrolled": true
   },
   "outputs": [],
   "source": [
    "import pandas as pd\n",
    "import regex as re\n",
    "import numpy as np\n",
    "import os\n",
    "from os import listdir\n",
    "from os.path import isfile,join\n",
    "\n",
    "# Read in a plain text file\n",
    "files = []\n",
    "path = r\"C:\\Users\\Avena Cheng\\Desktop\\Liberating Archives\\supremecourt\\textfiles\\\\\"\n",
    "for i in os.listdir(r\"C:\\Users\\Avena Cheng\\Desktop\\Liberating Archives\\supremecourt\\textfiles\"):\n",
    "    if i.endswith('.txt'):\n",
    "        text = open(path+i,encoding=\"utf8\").read()\n",
    "        files.append(text)"
   ]
  },
  {
   "cell_type": "code",
   "execution_count": 438,
   "metadata": {},
   "outputs": [
    {
     "data": {
      "text/plain": [
       "1302"
      ]
     },
     "execution_count": 438,
     "metadata": {},
     "output_type": "execute_result"
    }
   ],
   "source": [
    "len(files)"
   ]
  },
  {
   "cell_type": "code",
   "execution_count": 439,
   "metadata": {},
   "outputs": [],
   "source": [
    "cleaned = []\n",
    "for txt in files:\n",
    "    clean = re.sub('\\xad','',txt) # honestly not sure why this exists but ok\n",
    "    clean = re.sub('\\n','',clean) # no new lines\n",
    "    clean = re.sub('’',\"\\\\'\",clean) #remove weird apostrophe and replace with normal apostrophe\n",
    "    clean = re.sub('\\\\\\\\','',clean)\n",
    "    cleaned += [clean]"
   ]
  },
  {
   "cell_type": "code",
   "execution_count": 440,
   "metadata": {},
   "outputs": [],
   "source": [
    "## FIXING SPELLING ERRORS\n",
    "for transcript in cleaned:\n",
    "    transcript = re.sub('JUSTICE SC[A-Z]+:','JUSTICE SCALIA:',transcript)\n",
    "    transcript = re.sub('JUSTICE KEN[A-Z]+','JUSTICE KENNEDY:',transcript)\n",
    "    transcript = re.sub('JUSTICE [A-Z]+OUT[A-Z]+:','JUSTICE SOUTER:',transcript)\n",
    "    transcript = re.sub('JUSTICE BRE[A-Z]+:','JUSTICE BREYER:',transcript)\n",
    "    transcript = re.sub('JUSTICE GIN[A-Z]+:','JUSTICE GINSBURG',transcript)\n",
    "    transcript = re.sub('JUSTICE [A-Z]+QUIST:','JUSTICE REHNQUIST:',transcript)\n",
    "    transcript = re.sub('JUSTICE SOTO[A-Z]+:','JUSTICE SOTOMAYOR:',transcript)\n",
    "    transcript = re.sub('JUSTICE ROB[A-Z]+:','JUSTICE ROBERTS:',transcript)\n",
    "    transcript = re.sub('JUSTICE STEV[A-Z]+:','JUSTICE STEVENS:',transcript)"
   ]
  },
  {
   "cell_type": "markdown",
   "metadata": {},
   "source": [
    "### **Finding Justices Present**"
   ]
  },
  {
   "cell_type": "code",
   "execution_count": 441,
   "metadata": {},
   "outputs": [],
   "source": [
    "def unique(lst):\n",
    "    uni = []\n",
    "    for i in lst:\n",
    "        if i not in uni:\n",
    "            uni += [i]\n",
    "    return uni\n",
    "\n",
    "def case_no(txt):\n",
    "    return unique(re.findall('No.\\s*\\d+[-]*\\d+',txt))"
   ]
  },
  {
   "cell_type": "code",
   "execution_count": 442,
   "metadata": {},
   "outputs": [],
   "source": [
    "def justices(txt):\n",
    "    j = re.findall('JUSTICE[A-Z\\s]+:',txt)\n",
    "    justice = sorted(unique(j))\n",
    "    cleaned_list = [justice[i][:-1] for i in range(len(justice))]\n",
    "    return cleaned_list"
   ]
  },
  {
   "cell_type": "code",
   "execution_count": 443,
   "metadata": {},
   "outputs": [
    {
     "data": {
      "text/plain": [
       "['JUSTICE ALITO',\n",
       " 'JUSTICE BREYER',\n",
       " 'JUSTICE GINSBURG',\n",
       " 'JUSTICE KENNEDY',\n",
       " 'JUSTICE ROBERTS',\n",
       " 'JUSTICE SCALIA',\n",
       " 'JUSTICE SOUTER',\n",
       " 'JUSTICE STEVENS']"
      ]
     },
     "execution_count": 443,
     "metadata": {},
     "output_type": "execute_result"
    }
   ],
   "source": [
    "justices(cleaned[0])"
   ]
  },
  {
   "cell_type": "code",
   "execution_count": 444,
   "metadata": {},
   "outputs": [],
   "source": [
    "#def justices(texts):\n",
    " #   d = {}\n",
    "  #  for txt in texts:\n",
    "   #     num = case_no(txt)[0]\n",
    "    #    j = re.findall('JUSTICE[A-Z\\s]+:',txt)\n",
    "     #   justice = sorted(unique(j))\n",
    "      #  cleaned_list = [justice[i][:-1] for i in range(len(justice))]\n",
    "       # d[num] = cleaned_list\n",
    "    #return d"
   ]
  },
  {
   "cell_type": "markdown",
   "metadata": {},
   "source": [
    "## **Date, Year**"
   ]
  },
  {
   "cell_type": "code",
   "execution_count": 445,
   "metadata": {},
   "outputs": [],
   "source": [
    "def date(text):\n",
    "    return re.findall('\\W\\w+,*\\s+\\d+\\w*\\w*,\\s+\\d{4}',text)"
   ]
  },
  {
   "cell_type": "code",
   "execution_count": 446,
   "metadata": {},
   "outputs": [],
   "source": [
    "def year(text):\n",
    "    return re.findall('\\d\\d\\d\\d',date(text))"
   ]
  },
  {
   "cell_type": "markdown",
   "metadata": {},
   "source": [
    "## **Appearances**"
   ]
  },
  {
   "cell_type": "code",
   "execution_count": 447,
   "metadata": {},
   "outputs": [],
   "source": [
    "def appearances(text):\n",
    "    app = re.findall('APPEARANCES:[\\s\\S]*?Reporting',text)[0]\n",
    "    app = re.findall('[\\s\\S]*?;[\\s\\S]*?\\.',app)\n",
    "    app = [re.sub('\\d','',app[i]) for i in range(len(app))]\n",
    "    remove_appearance = re.sub('APPEARANCES:\\s','',app[0])\n",
    "    app[0] = remove_appearance\n",
    "    app = [re.sub('[\\s\\s]+',' ',app[i]) for i in range(len(app))]\n",
    "    return app"
   ]
  },
  {
   "cell_type": "code",
   "execution_count": 448,
   "metadata": {
    "scrolled": true
   },
   "outputs": [],
   "source": [
    "#for i in cleaned:\n",
    " #   app = appearances(i)\n",
    "  #  for j in app:\n",
    "   #     print(j)\n",
    "    #print('-----------------------')"
   ]
  },
  {
   "cell_type": "markdown",
   "metadata": {},
   "source": [
    "## **Sentiment Analysis**"
   ]
  },
  {
   "cell_type": "markdown",
   "metadata": {},
   "source": [
    "**Checkpoint 10/22**\n",
    "\n",
    "* need to work on finding the regex pattern between speakers\n",
    "* General pattern: \"SPEAKER: anything they say until the next SPEAKER:\"\n",
    "\n",
    "### STEPS:\n",
    "1. Extract the sentences from each speaker.\n",
    "2. Develop a function (actually there's one written in the github link below that you could model yours from; it's very good)\n",
    "3. Test it on various transcripts to ensure it's generalized"
   ]
  },
  {
   "cell_type": "markdown",
   "metadata": {},
   "source": [
    "### Note to Amal: Please look at these slides for performing sentiment analysis. They are from my IEOR class, and these techniques are very useful. Please let me know if you would like to go over it together.\n",
    "\n",
    "https://github.com/ikhlaqsidhu/data-x/blob/master/07a-tools-nlp-sentiment_add_missing_si/notebook-nlp-sentiment-analysis-imdb-afo_v2.ipynb\n",
    "\n",
    "## OTHER NOTES: you can't use the function below on cases where the justices' names are replaced with \"QUESTION\""
   ]
  },
  {
   "cell_type": "code",
   "execution_count": 449,
   "metadata": {},
   "outputs": [],
   "source": [
    "reporting_pattern = '[A-Z][a-z]+\\sReporting'\n",
    "REPORTING_pattern = '[A-Z]+\\sREPORTING'\n",
    "contents_pattern = 'CONTENTS'\n",
    "CONTENTS_pattern = 'C O N T E N T S'"
   ]
  },
  {
   "cell_type": "code",
   "execution_count": 450,
   "metadata": {},
   "outputs": [],
   "source": [
    "## I was trying to extract the speakers from each text. \n",
    "all_justices =['JUSTICE GORSUCH','JUSTICE PHILLIPS','JUSTICE SCALIA','JUSTICE ROBERTS','JUSTICE KAVANAUGH',\n",
    "               'JUSTICE GINSBURG','JUSTICE BREYER','JUSTICE KENNEDY','JUSTICE ALITO','JUSTICE STEVENS',\n",
    "               'JUSTICE KAGAN','JUSTICE REHNQUIST','JUSTICE THOMAS','JUSTICE SOTOMAYOR','JUSTICE SOUTER','JUSTICE BENNETT']\n",
    "\n",
    "def dialogue(text,person):\n",
    "    pattern = re.escape(person)+r\":[\\s\\S]+?[A-Z]+\\s*?:\"\n",
    "    sents = re.findall(pattern,text) #regex pattern to find all instances\n",
    "    sents = [re.sub('\\d','',i) for i in sents] # cleaning transcript\n",
    "    sents = [re.sub('[\\s\\s]+',' ',i) for i in sents] #cleaning transcript\n",
    "    sents = [re.sub('Company Official',' ',i) for i in sents if len(re.sub('Company Official',' ',i)) != 0]\n",
    "    for i in range(len(sents)):\n",
    "        report1 = re.findall(reporting_pattern,sents[i])\n",
    "        report2 = re.findall(REPORTING_pattern,sents[i])\n",
    "        content1 = re.findall(contents_pattern,sents[i])\n",
    "        content2 = re.findall(CONTENTS_pattern,sents[i])\n",
    "        if len(report1) > 0:\n",
    "            sents[i]=re.sub(report1[0],'',sents[i])\n",
    "        elif len(report2) > 0:\n",
    "            sents[i]=re.sub(report2[0],'',sents[i])\n",
    "        elif len(content1) > 0:\n",
    "            sents[i]=re.sub(content1[0],'',sents[i])\n",
    "        elif len(content2) > 0:\n",
    "            sents[i]=re.sub(content2[0],'',sents[i])\n",
    "        else:\n",
    "            continue\n",
    "    sents = [re.sub('Official - Subject to Final Review','',i) for i in sents if len(re.sub('Official - Subject to Final Review','',i))!= 0]\n",
    "    sents = [re.sub('- Subject to Final Review','',i) for i in sents]\n",
    "    sents = [re.sub('JUSTICE [A-Z]+:','',i) for i in sents]\n",
    "    sents = [re.sub('CHIEF|Page|JUSTICE','',i) for i in sents]\n",
    "    sents = [re.sub('th Street, NW Suite  Company Washington, DC --FOR-DEPO','',i) for i in sents]\n",
    "    sents = [re.sub('--FOR-DEPO','',i) for i in sents]\n",
    "    sents = [re.sub('[A-Z\\s*\\.*]+:','',i) for i in sents]\n",
    "    return sents\n"
   ]
  },
  {
   "cell_type": "code",
   "execution_count": 451,
   "metadata": {
    "scrolled": true
   },
   "outputs": [
    {
     "data": {
      "text/plain": [
       "[\" We'll hear argument next in No. -, TRW, Inc. v. Adelaide Andrews. Mr. Nager\"]"
      ]
     },
     "execution_count": 451,
     "metadata": {},
     "output_type": "execute_result"
    }
   ],
   "source": [
    "dialogue(cleaned[1123],'REHNQUIST')"
   ]
  },
  {
   "cell_type": "code",
   "execution_count": 452,
   "metadata": {},
   "outputs": [],
   "source": [
    "case_1 = []\n",
    "speech = []\n",
    "for j in all_justices:\n",
    "    for i in range(100):\n",
    "        text =  dialogue(cleaned[i],j)\n",
    "        speech += [text]\n",
    "        "
   ]
  },
  {
   "cell_type": "code",
   "execution_count": 453,
   "metadata": {},
   "outputs": [
    {
     "data": {
      "text/plain": [
       "16"
      ]
     },
     "execution_count": 453,
     "metadata": {},
     "output_type": "execute_result"
    }
   ],
   "source": [
    "len(all_justices)"
   ]
  },
  {
   "cell_type": "code",
   "execution_count": 454,
   "metadata": {},
   "outputs": [],
   "source": [
    "#speech"
   ]
  },
  {
   "cell_type": "markdown",
   "metadata": {},
   "source": [
    "# **Building the DataFrame**"
   ]
  },
  {
   "cell_type": "markdown",
   "metadata": {},
   "source": [
    "#### Justices!\n",
    "`#print(cleaned[4])`\n",
    "\n",
    "If we run the above ...\n",
    "\n",
    "Notice that instead of having the justices' name, it just says \"QUESTION\". This is usually the case for when it appears there is only one justice present. It seems to be only for Justice Rehnquist."
   ]
  },
  {
   "cell_type": "code",
   "execution_count": 455,
   "metadata": {},
   "outputs": [],
   "source": [
    "## Testing do not use\n",
    "trial = [justices(i) for i in cleaned]\n",
    "every_justice = []\n",
    "for i in trial:\n",
    "    every_justice += i\n",
    "uniques = unique(every_justice)\n",
    "for i in range(len(uniques)):\n",
    "    uniques[i] = re.sub('JUSTICE','',uniques[i])\n",
    "    uniques[i] = re.sub('\\s+','',uniques[i])\n",
    "#unique(uniques)"
   ]
  },
  {
   "cell_type": "code",
   "execution_count": 456,
   "metadata": {},
   "outputs": [],
   "source": [
    "justice = [justices(i) for i in cleaned]\n",
    "for lst in justice:\n",
    "    for word in range(len(lst)):\n",
    "        #lst[word] = re.sub('JUSTICE','',lst[word])\n",
    "        #lst[word] = re.sub('\\s+','',lst[word])\n",
    "        if 'SC' in lst[word]:\n",
    "            lst[word] = re.sub(lst[word],'JUSTICE SCALIA',lst[word])\n",
    "        if 'KEN' in lst[word]:\n",
    "            lst[word] = re.sub(lst[word],'JUSTICE KENNEDY',lst[word])\n",
    "        if 'TER' in lst[word]:\n",
    "            lst[word] = re.sub(lst[word],'JUSTICE SOUTER',lst[word])\n",
    "        if 'BRE' in lst[word]:\n",
    "            lst[word] = re.sub(lst[word],'JUSTICE BREYER',lst[word])\n",
    "        if 'GIN' in lst[word]:\n",
    "            lst[word] = re.sub(lst[word],'JUSTICE GINSBURG',lst[word])\n",
    "        if 'QUIST' in lst[word]:\n",
    "            lst[word] = re.sub(lst[word],'JUSTICE REHNQUIST',lst[word])\n",
    "        if 'SOTO' in lst[word]:\n",
    "            lst[word] = re.sub(lst[word],'JUSTICE SOTOMAYOR',lst[word])\n",
    "        if 'ROB' in lst[word]:\n",
    "            lst[word] = re.sub(lst[word],'JUSTICE ROBERTS',lst[word])\n",
    "        if 'STEVE' in lst[word]:\n",
    "            lst[word] = re.sub(lst[word],'JUSTICE STEVENS',lst[word])"
   ]
  },
  {
   "cell_type": "code",
   "execution_count": 457,
   "metadata": {},
   "outputs": [],
   "source": [
    "#for i in range(len(justice)):\n",
    " #   justice[i] = re.sub('JUSTICE','',justice[i])"
   ]
  },
  {
   "cell_type": "markdown",
   "metadata": {},
   "source": [
    "#### Dates!"
   ]
  },
  {
   "cell_type": "code",
   "execution_count": 458,
   "metadata": {},
   "outputs": [
    {
     "data": {
      "text/plain": [
       "' December 1, 2008'"
      ]
     },
     "execution_count": 458,
     "metadata": {},
     "output_type": "execute_result"
    }
   ],
   "source": [
    "date(cleaned[0])[0]"
   ]
  },
  {
   "cell_type": "code",
   "execution_count": 459,
   "metadata": {},
   "outputs": [],
   "source": [
    "dates = []\n",
    "for i in cleaned:\n",
    "    dates += [date(i)[0]]"
   ]
  },
  {
   "cell_type": "code",
   "execution_count": 460,
   "metadata": {},
   "outputs": [
    {
     "data": {
      "text/plain": [
       "1302"
      ]
     },
     "execution_count": 460,
     "metadata": {},
     "output_type": "execute_result"
    }
   ],
   "source": [
    "len(dates)"
   ]
  },
  {
   "cell_type": "markdown",
   "metadata": {},
   "source": [
    "#### Year!"
   ]
  },
  {
   "cell_type": "code",
   "execution_count": 461,
   "metadata": {},
   "outputs": [],
   "source": [
    "years = []\n",
    "for i in dates:\n",
    "    years += re.findall('\\d\\d\\d\\d',i)"
   ]
  },
  {
   "cell_type": "code",
   "execution_count": 462,
   "metadata": {},
   "outputs": [
    {
     "data": {
      "text/plain": [
       "1302"
      ]
     },
     "execution_count": 462,
     "metadata": {},
     "output_type": "execute_result"
    }
   ],
   "source": [
    "len(years)"
   ]
  },
  {
   "cell_type": "markdown",
   "metadata": {},
   "source": [
    "#### Case Numbers! (Needs improvement)"
   ]
  },
  {
   "cell_type": "code",
   "execution_count": 466,
   "metadata": {},
   "outputs": [
    {
     "data": {
      "text/plain": [
       "['No. 07-581']"
      ]
     },
     "execution_count": 466,
     "metadata": {},
     "output_type": "execute_result"
    }
   ],
   "source": [
    "case_no(cleaned[0])"
   ]
  },
  {
   "cell_type": "code",
   "execution_count": 467,
   "metadata": {},
   "outputs": [],
   "source": [
    "cases = []\n",
    "for i in cleaned:\n",
    "    cases += [case_no(i)[0]]"
   ]
  },
  {
   "cell_type": "code",
   "execution_count": 468,
   "metadata": {},
   "outputs": [
    {
     "data": {
      "text/plain": [
       "1302"
      ]
     },
     "execution_count": 468,
     "metadata": {},
     "output_type": "execute_result"
    }
   ],
   "source": [
    "len(cleaned)"
   ]
  },
  {
   "cell_type": "markdown",
   "metadata": {},
   "source": [
    "#### Appearances!"
   ]
  },
  {
   "cell_type": "code",
   "execution_count": 469,
   "metadata": {},
   "outputs": [],
   "source": [
    "# don't use this one\n",
    "def appearances(text):\n",
    "    app = re.findall('APPEARANCES:[\\s\\S]*?Reporting.*?',text)\n",
    "    if len(app) == 0:\n",
    "        app = re.findall('APPEARANCES:[\\s\\S]*?REPORTING.*?',text)\n",
    "        if len(app) == 0:\n",
    "            app = re.findall('APPEARANCES:[\\s\\S]*?C O N T E N T S.*?',text)\n",
    "            if len(app) == 0:\n",
    "                app = re.findall('APPEARANCES:[\\s\\S]*?CONTENTS.*?',text)\n",
    "    app = app[0]\n",
    "    app = re.findall('[\\s\\S]*?;[\\s\\S]*?\\.',app)\n",
    "    app = [re.sub('\\d','',app[i]) for i in range(len(app))]\n",
    "    remove_appearance = re.sub('APPEARANCES:\\s','',app[0])\n",
    "    app[0] = remove_appearance\n",
    "    app = [re.sub('[\\s\\s]+',' ',app[i]) for i in range(len(app))]\n",
    "    return app"
   ]
  },
  {
   "cell_type": "code",
   "execution_count": 470,
   "metadata": {},
   "outputs": [],
   "source": [
    "def diff(text):\n",
    "    app = re.findall('APPEARANCES:*[\\s\\S]*?Reporting.*?',text)\n",
    "    if len(app) == 0 or len(app[0])>1000:\n",
    "        app = re.findall('APPEARANCES:[\\s\\S]*?REPORTING.*?',text)\n",
    "        if len(app) == 0 or len(app[0])>1000:\n",
    "            app = re.findall('APPEARANCES:[\\s\\S]*?C O N T E N T S.*?',text)\n",
    "            if len(app) == 0 or len(app[0])>1000:\n",
    "                app = re.findall('APPEARANCES:[\\s\\S]*?CONTENTS.*?',text)\n",
    "                if len(app) == 0 or len(app[0])>1000:\n",
    "                    app = re.findall('APPEARANCES:[\\s\\S]*?P R O C E E D I N G S.*?',text)\n",
    "    app = app[0]\n",
    "    app = re.sub('\\d','',app)\n",
    "    remove_appearance = re.sub('APPEARANCES:*\\s','',app)\n",
    "    app = re.sub('[\\s\\s]+',' ',remove_appearance)\n",
    "    return app"
   ]
  },
  {
   "cell_type": "code",
   "execution_count": 471,
   "metadata": {
    "scrolled": true
   },
   "outputs": [],
   "source": [
    "ugh = []\n",
    "c = 1\n",
    "for i in range(len(cleaned)):\n",
    "    #print(c)\n",
    "    try:\n",
    "        ugh+=[diff(cleaned[i])]\n",
    "        #print('')\n",
    "    except:\n",
    "        ugh += [i]\n",
    "        continue\n",
    "    c+=1"
   ]
  },
  {
   "cell_type": "code",
   "execution_count": 472,
   "metadata": {},
   "outputs": [
    {
     "name": "stdout",
     "output_type": "stream",
     "text": [
      "1023\n"
     ]
    }
   ],
   "source": [
    "for i in ugh:\n",
    "    if type(i)==int:\n",
    "        print(i)"
   ]
  },
  {
   "cell_type": "code",
   "execution_count": 473,
   "metadata": {},
   "outputs": [
    {
     "data": {
      "text/plain": [
       "1023"
      ]
     },
     "execution_count": 473,
     "metadata": {},
     "output_type": "execute_result"
    }
   ],
   "source": [
    "ugh[1023]"
   ]
  },
  {
   "cell_type": "code",
   "execution_count": 474,
   "metadata": {},
   "outputs": [],
   "source": [
    "for i in range(len(ugh)):\n",
    "    if i == 1023:\n",
    "        ugh[i] = 1023\n",
    "    else:\n",
    "        ugh[i] = re.sub('in No. -','',ugh[i])"
   ]
  },
  {
   "cell_type": "code",
   "execution_count": 475,
   "metadata": {},
   "outputs": [
    {
     "data": {
      "text/plain": [
       "'PAUL SALVATORE, ESQ., New York, N.Y.; on behalf of the Petitioners. DAVID C. FREDERICK, ESQ., Washington, D.C.; on behalf of the Respondents. CURTIS E. GANNON, ESQ., Assistant to the Solicitor General, Department of Justice, Washington, D.C.; on behalf of the United States, as amicus curiae, supporting the Respondents. Alderson Reporting'"
      ]
     },
     "execution_count": 475,
     "metadata": {},
     "output_type": "execute_result"
    }
   ],
   "source": [
    "ugh[0]"
   ]
  },
  {
   "cell_type": "code",
   "execution_count": 476,
   "metadata": {},
   "outputs": [
    {
     "data": {
      "text/plain": [
       "'Alderson Reporting'"
      ]
     },
     "execution_count": 476,
     "metadata": {},
     "output_type": "execute_result"
    }
   ],
   "source": [
    "re.findall(reporting_pattern,cleaned[0])[0]"
   ]
  },
  {
   "cell_type": "code",
   "execution_count": 477,
   "metadata": {
    "scrolled": true
   },
   "outputs": [
    {
     "data": {
      "text/plain": [
       "'PAUL SALVATORE, ESQ., New York, N.Y.; on behalf of the Petitioners. DAVID C. FREDERICK, ESQ., Washington, D.C.; on behalf of the Respondents. CURTIS E. GANNON, ESQ., Assistant to the Solicitor General, Department of Justice, Washington, D.C.; on behalf of the United States, as amicus curiae, supporting the Respondents. '"
      ]
     },
     "execution_count": 477,
     "metadata": {},
     "output_type": "execute_result"
    }
   ],
   "source": [
    "re.sub(re.findall(reporting_pattern,ugh[0])[0],'',ugh[0])"
   ]
  },
  {
   "cell_type": "code",
   "execution_count": 478,
   "metadata": {},
   "outputs": [],
   "source": [
    "for i in range(len(ugh)):\n",
    "    if i == 1023:\n",
    "        ugh[i] == 'JASON D. HAWKINS, ESQ., Assistant Federal Public Defender, Dallas, Texas; for Petitioner. WILLIAM M. JAY, ESQ., Assistant to the Solicitor General, Department of Justice, Washington, D.C.; for  Respondent, in support of Petitioner. EVAN A. YOUNG, ESQ., Austin, Texas; for amicus curiae, in support of the judgment below; appointed by this Court.'\n",
    "    else:\n",
    "        report1 = re.findall(reporting_pattern,ugh[i])\n",
    "        report2 = re.findall(REPORTING_pattern,ugh[i])\n",
    "        content1 = re.findall(contents_pattern,ugh[i])\n",
    "        content2 = re.findall(CONTENTS_pattern,ugh[i])\n",
    "        if len(report1) > 0:\n",
    "            ugh[i]=re.sub(report1[0],'',ugh[i])\n",
    "        elif len(report2) > 0:\n",
    "            ugh[i]=re.sub(report2[0],'',ugh[i])\n",
    "        elif len(content1) > 0:\n",
    "            ugh[i]=re.sub(content1[0],'',ugh[i])\n",
    "        else:\n",
    "            ugh[i]=re.sub(content2[0],'',ugh[i])"
   ]
  },
  {
   "cell_type": "code",
   "execution_count": 479,
   "metadata": {},
   "outputs": [],
   "source": [
    "bad = 'JASON D. HAWKINS, ESQ., Assistant Federal Public Defender, Dallas, Texas; for Petitioner. WILLIAM M. JAY, ESQ., Assistant to the Solicitor General, Department of Justice, Washington, D.C.; for  Respondent, in support of Petitioner. EVAN A. YOUNG, ESQ., Austin, Texas; for amicus curiae, in support of the judgment below; appointed by this Court.'"
   ]
  },
  {
   "cell_type": "code",
   "execution_count": 480,
   "metadata": {},
   "outputs": [],
   "source": [
    "no_55 = re.sub(\"\\d\", \"\",cleaned[55])\n",
    "no_295 = re.sub(\"\\d\",\"\",cleaned[295])\n",
    "app_55 = \"THOMAS C. GOLDSTEIN, ESQ., Washington, D.C.; on behalf of Petitioners. DONALD B. VERRILLI, JR., ESQ., Solicitor General, Department of Justice, Washington, D.C.; on behalf of Respondents.\"\n",
    "app_295 = \"APPEARANCES: Alderson Reporting Company Official - Subject to Final Review TIMOTHY S. BISHOP, ESQ., Chicago, Illinois; on behalf of Petitioners. MALCOLM L. STEWART, ESQ., Deputy Solicitor General, Department of Justice, Washington, D.C.; for United States, as amicus curiae, in support of Petitioners. JEFFREY L. FISHER, ESQ., Stanford, California; on behalf of Respondents.\"\n",
    "app_1023 = 'JASON D. HAWKINS, ESQ., Assistant Federal Public Defender, Dallas, Texas; for Petitioner. WILLIAM M. JAY, ESQ., Assistant to the Solicitor General, Department of Justice, Washington, D.C.; for  Respondent, in support of Petitioner. EVAN A. YOUNG, ESQ., Austin, Texas; for amicus curiae, in support of the judgment below; appointed by this Court.'"
   ]
  },
  {
   "cell_type": "code",
   "execution_count": 481,
   "metadata": {},
   "outputs": [],
   "source": [
    "ugh[55] = app_55\n",
    "ugh[295] = app_295\n",
    "ugh[1023] = app_1023"
   ]
  },
  {
   "cell_type": "markdown",
   "metadata": {},
   "source": [
    "#### People!"
   ]
  },
  {
   "cell_type": "code",
   "execution_count": 482,
   "metadata": {},
   "outputs": [],
   "source": [
    "people = []\n",
    "for i in range(len(ugh)):\n",
    "    p = re.findall('[A-Z]+\\s[A-Z\\.\\s]*[\\'*A-Za-z\\s*]+',ugh[i])\n",
    "    people += [p]\n",
    "    \n",
    "for i in range(len(people)):\n",
    "    people[i] = \", \".join(people[i])"
   ]
  },
  {
   "cell_type": "code",
   "execution_count": 483,
   "metadata": {
    "scrolled": true
   },
   "outputs": [],
   "source": [
    "anns = []\n",
    "for i in range(len(people)):\n",
    "    lst = people[i]\n",
    "    if \"DABNEY\" in lst:\n",
    "        anns += [i]"
   ]
  },
  {
   "cell_type": "code",
   "execution_count": 484,
   "metadata": {},
   "outputs": [
    {
     "name": "stdout",
     "output_type": "stream",
     "text": [
      "Already, LLC v. Nike, Inc.\n",
      "\n",
      "Holmes Group, Inc. v. Vornado Air Circulation Systems, Inc.\n",
      "\n",
      "KSR International Co. v. Teleflex, Inc.\n",
      "\n",
      "TC Heartland LLC v. Kraft Foods Group Brands LLC\n",
      "\n"
     ]
    }
   ],
   "source": [
    "for i in anns:\n",
    "    print(data.iloc[i]['Title'])\n",
    "    print('')"
   ]
  },
  {
   "cell_type": "code",
   "execution_count": 485,
   "metadata": {
    "scrolled": true
   },
   "outputs": [
    {
     "data": {
      "text/plain": [
       "\"MICHAEL B. KIMBERLY, ESQ., Washington, D.C.; on behalf of the Petitioner. RANDALL E. RAVITZ, ESQ., Assistant Attorney General, Boston, Mass.; on behalf of the Respondent. ANN O'CONNELL, ESQ., Assistant to the Solicitor General, Department of Justice, Washington, D.C.; for United States, as amicus curiae, supporting the Respondent. \""
      ]
     },
     "execution_count": 485,
     "metadata": {},
     "output_type": "execute_result"
    }
   ],
   "source": [
    "data.iloc[1252]['Appearances']"
   ]
  },
  {
   "cell_type": "code",
   "execution_count": 486,
   "metadata": {},
   "outputs": [],
   "source": [
    "#for i in range(len(people)):\n",
    " #   need_to_fix = re.findall()"
   ]
  },
  {
   "cell_type": "code",
   "execution_count": 487,
   "metadata": {},
   "outputs": [
    {
     "data": {
      "text/plain": [
       "Title                                            Nevada v. Hicks\n",
       "Case_ID                                                      826\n",
       "Case_No                                              No. 99-1994\n",
       "Date                                              March 21, 2001\n",
       "Year                                                        2001\n",
       "Justices                                     [JUSTICE REHNQUIST]\n",
       "Appearances    C. WAYNE HOWLE, ESQ., Carson City, Nevada; on ...\n",
       "People                WAYNE HOWLE, JAMES ANAYA, BARBARA MCDOWELL\n",
       "Name: 825, dtype: object"
      ]
     },
     "execution_count": 487,
     "metadata": {},
     "output_type": "execute_result"
    }
   ],
   "source": [
    "data.iloc[825]"
   ]
  },
  {
   "cell_type": "markdown",
   "metadata": {},
   "source": [
    "#### Title!"
   ]
  },
  {
   "cell_type": "code",
   "execution_count": 488,
   "metadata": {},
   "outputs": [],
   "source": [
    "title = [f for f in listdir(r\"C:\\Users\\Avena Cheng\\Desktop\\Liberating Archives\\supremecourt\\textfiles\") if isfile(join(r\"C:\\Users\\Avena Cheng\\Desktop\\Liberating Archives\\supremecourt\\textfiles\", f))]\n",
    "for i in range(len(title)):\n",
    "    title[i] = re.sub('.pdf.txt','',title[i])\n",
    "title.remove('DatabaseDesign1.ipynb')"
   ]
  },
  {
   "cell_type": "markdown",
   "metadata": {},
   "source": [
    "### ACTUAL DATAFRAME\n",
    "\n",
    "** Note: Some cases only have one justice, Rehnquist, but this is actually because the rest of the questions appear as \"QUESTION:\" rather than the justices' name."
   ]
  },
  {
   "cell_type": "code",
   "execution_count": 489,
   "metadata": {},
   "outputs": [
    {
     "name": "stdout",
     "output_type": "stream",
     "text": [
      "1302 1302 1302 1302 1302 1302\n"
     ]
    }
   ],
   "source": [
    "#make sure they're all the same length\n",
    "print(len(justice),\n",
    "len(title),\n",
    "len(ugh),\n",
    "len(people),\n",
    "len(years),\n",
    "len(cases))"
   ]
  },
  {
   "cell_type": "code",
   "execution_count": 490,
   "metadata": {
    "scrolled": true
   },
   "outputs": [],
   "source": [
    "data = pd.DataFrame({'Title':title,'Case_ID':range(1,1303),'Case_No': cases,'Date':dates,'Year':years,'Justices':justice,'Appearances':ugh,'People':people})#'Justices':justice,'Appearances':people})"
   ]
  },
  {
   "cell_type": "code",
   "execution_count": 491,
   "metadata": {
    "scrolled": true
   },
   "outputs": [
    {
     "data": {
      "text/html": [
       "<div>\n",
       "<style scoped>\n",
       "    .dataframe tbody tr th:only-of-type {\n",
       "        vertical-align: middle;\n",
       "    }\n",
       "\n",
       "    .dataframe tbody tr th {\n",
       "        vertical-align: top;\n",
       "    }\n",
       "\n",
       "    .dataframe thead th {\n",
       "        text-align: right;\n",
       "    }\n",
       "</style>\n",
       "<table border=\"1\" class=\"dataframe\">\n",
       "  <thead>\n",
       "    <tr style=\"text-align: right;\">\n",
       "      <th></th>\n",
       "      <th>Title</th>\n",
       "      <th>Case_ID</th>\n",
       "      <th>Case_No</th>\n",
       "      <th>Date</th>\n",
       "      <th>Year</th>\n",
       "      <th>Justices</th>\n",
       "      <th>Appearances</th>\n",
       "      <th>People</th>\n",
       "    </tr>\n",
       "  </thead>\n",
       "  <tbody>\n",
       "    <tr>\n",
       "      <th>0</th>\n",
       "      <td>14 Penn Plaza LLC v. Pyett</td>\n",
       "      <td>1</td>\n",
       "      <td>No. 07-581</td>\n",
       "      <td>December 1, 2008</td>\n",
       "      <td>2008</td>\n",
       "      <td>[JUSTICE ALITO, JUSTICE BREYER, JUSTICE GINSBU...</td>\n",
       "      <td>PAUL SALVATORE, ESQ., New York, N.Y.; on behal...</td>\n",
       "      <td>PAUL SALVATORE, DAVID C. FREDERICK, CURTIS E. ...</td>\n",
       "    </tr>\n",
       "    <tr>\n",
       "      <th>1</th>\n",
       "      <td>Abbott v. Perez</td>\n",
       "      <td>2</td>\n",
       "      <td>No. 17-586</td>\n",
       "      <td>April 24, 2018</td>\n",
       "      <td>2018</td>\n",
       "      <td>[JUSTICE ALITO, JUSTICE BREYER, JUSTICE GINSBU...</td>\n",
       "      <td>SCOTT A. KELLER, Solicitor General of Texas, ...</td>\n",
       "      <td>SCOTT A. KELLER, EDWIN S. KNEEDLER, MAX RENEA ...</td>\n",
       "    </tr>\n",
       "    <tr>\n",
       "      <th>2</th>\n",
       "      <td>Abbott v. United States</td>\n",
       "      <td>3</td>\n",
       "      <td>No. 09-479</td>\n",
       "      <td>October 4, 2010</td>\n",
       "      <td>2010</td>\n",
       "      <td>[JUSTICE ALITO, JUSTICE BREYER, JUSTICE GINSBU...</td>\n",
       "      <td>DAVID L. HORAN, ESQ., Dallas, Texas; on behalf...</td>\n",
       "      <td>DAVID L. HORAN, JAMES E. RYAN</td>\n",
       "    </tr>\n",
       "    <tr>\n",
       "      <th>3</th>\n",
       "      <td>Abdul-Kabir v. Quarterman</td>\n",
       "      <td>4</td>\n",
       "      <td>No. 05-11284</td>\n",
       "      <td>January 17, 2006</td>\n",
       "      <td>2006</td>\n",
       "      <td>[JUSTICE ALITO, JUSTICE BREYER, JUSTICE GINSBU...</td>\n",
       "      <td>ROBERT C. OWEN, ESQ., Austin, Tex.; on behalf...</td>\n",
       "      <td>ROBERT C. OWEN, EDWARD L. MARSHALL</td>\n",
       "    </tr>\n",
       "    <tr>\n",
       "      <th>4</th>\n",
       "      <td>Abdur_Rahman v. Bell</td>\n",
       "      <td>5</td>\n",
       "      <td>No. 01-9094</td>\n",
       "      <td>November 6, 2002</td>\n",
       "      <td>2002</td>\n",
       "      <td>[JUSTICE REHNQUIST]</td>\n",
       "      <td>JAMES S. LIEBMAN, ESQ., New York, New York; on...</td>\n",
       "      <td>JAMES S. LIEBMAN, PAUL G. SUMMERS, PAUL J. ZID...</td>\n",
       "    </tr>\n",
       "  </tbody>\n",
       "</table>\n",
       "</div>"
      ],
      "text/plain": [
       "                        Title  Case_ID       Case_No               Date  Year  \\\n",
       "0  14 Penn Plaza LLC v. Pyett        1    No. 07-581   December 1, 2008  2008   \n",
       "1             Abbott v. Perez        2    No. 17-586     April 24, 2018  2018   \n",
       "2     Abbott v. United States        3    No. 09-479    October 4, 2010  2010   \n",
       "3   Abdul-Kabir v. Quarterman        4  No. 05-11284   January 17, 2006  2006   \n",
       "4        Abdur_Rahman v. Bell        5   No. 01-9094   November 6, 2002  2002   \n",
       "\n",
       "                                            Justices  \\\n",
       "0  [JUSTICE ALITO, JUSTICE BREYER, JUSTICE GINSBU...   \n",
       "1  [JUSTICE ALITO, JUSTICE BREYER, JUSTICE GINSBU...   \n",
       "2  [JUSTICE ALITO, JUSTICE BREYER, JUSTICE GINSBU...   \n",
       "3  [JUSTICE ALITO, JUSTICE BREYER, JUSTICE GINSBU...   \n",
       "4                                [JUSTICE REHNQUIST]   \n",
       "\n",
       "                                         Appearances  \\\n",
       "0  PAUL SALVATORE, ESQ., New York, N.Y.; on behal...   \n",
       "1   SCOTT A. KELLER, Solicitor General of Texas, ...   \n",
       "2  DAVID L. HORAN, ESQ., Dallas, Texas; on behalf...   \n",
       "3   ROBERT C. OWEN, ESQ., Austin, Tex.; on behalf...   \n",
       "4  JAMES S. LIEBMAN, ESQ., New York, New York; on...   \n",
       "\n",
       "                                              People  \n",
       "0  PAUL SALVATORE, DAVID C. FREDERICK, CURTIS E. ...  \n",
       "1  SCOTT A. KELLER, EDWIN S. KNEEDLER, MAX RENEA ...  \n",
       "2                      DAVID L. HORAN, JAMES E. RYAN  \n",
       "3                 ROBERT C. OWEN, EDWARD L. MARSHALL  \n",
       "4  JAMES S. LIEBMAN, PAUL G. SUMMERS, PAUL J. ZID...  "
      ]
     },
     "execution_count": 491,
     "metadata": {},
     "output_type": "execute_result"
    }
   ],
   "source": [
    "data.head()"
   ]
  },
  {
   "cell_type": "code",
   "execution_count": 492,
   "metadata": {},
   "outputs": [],
   "source": [
    "data.to_csv(r\"C:\\Users\\Avena Cheng\\Desktop\\Liberating Archives\\data.csv\")"
   ]
  },
  {
   "cell_type": "markdown",
   "metadata": {},
   "source": [
    "## Bills/Acts\n",
    "\n",
    "** credits to Yuhan and Amal**"
   ]
  },
  {
   "cell_type": "code",
   "execution_count": 497,
   "metadata": {},
   "outputs": [],
   "source": [
    "import regex as re\n",
    "import numpy\n",
    "import os\n",
    "\n",
    "def unique(texts):\n",
    "    return list(set(texts))\n",
    "\n",
    "#return a set of nonunique bill mentioned in the speech.\n",
    "def bill(texts):\n",
    "    no_num = re.sub('\\d+','',texts)\n",
    "    no_n = re.sub('\\n','',no_num)\n",
    "    evenly_spaced = re.sub('\\s+',' ',no_n)\n",
    "    b= re.findall(\"[A-Z][a-z]+\\s[A-Z][a-z]+\\sAct\", evenly_spaced)\n",
    "    return b\n",
    "#return a set of unique bill mentioned in the speech.\n",
    "def unibill(texts):\n",
    "    return unique(bill(texts))\n",
    "#return the name and times it appears.\n",
    "def count(texts):\n",
    "    bills = bill(texts)\n",
    "    ret = []\n",
    "    for i in range(0,len(bills)):\n",
    "        count = bills.count(bills[i])\n",
    "        ret.append (str(bills[i]) + \" \" + \":\" + ' '+str(count))\n",
    "    return unique(ret)\n"
   ]
  },
  {
   "cell_type": "code",
   "execution_count": 498,
   "metadata": {},
   "outputs": [
    {
     "data": {
      "text/plain": [
       "['Labor Standards Act : 1', 'Labor Relations Act : 2']"
      ]
     },
     "execution_count": 498,
     "metadata": {},
     "output_type": "execute_result"
    }
   ],
   "source": [
    "unibill(cleaned[0])\n",
    "count(cleaned[0])"
   ]
  },
  {
   "cell_type": "code",
   "execution_count": 499,
   "metadata": {},
   "outputs": [],
   "source": [
    "bills_mentioned = []\n",
    "for i in range(len(cleaned)):\n",
    "    bills_mentioned += [count(cleaned[i])]"
   ]
  },
  {
   "cell_type": "code",
   "execution_count": 500,
   "metadata": {},
   "outputs": [
    {
     "data": {
      "text/plain": [
       "1302"
      ]
     },
     "execution_count": 500,
     "metadata": {},
     "output_type": "execute_result"
    }
   ],
   "source": [
    "len(bills_mentioned)"
   ]
  },
  {
   "cell_type": "code",
   "execution_count": 501,
   "metadata": {},
   "outputs": [],
   "source": [
    "data['Bills Mentioned'] = bills_mentioned"
   ]
  },
  {
   "cell_type": "code",
   "execution_count": 508,
   "metadata": {},
   "outputs": [],
   "source": [
    "bills_db = data[['Title','Case_No','Date','Bills Mentioned']]"
   ]
  },
  {
   "cell_type": "code",
   "execution_count": 510,
   "metadata": {},
   "outputs": [],
   "source": [
    "#bills_db.to_csv('bills_db.csv')"
   ]
  },
  {
   "cell_type": "markdown",
   "metadata": {},
   "source": [
    "## Keywords/TF-IDF"
   ]
  },
  {
   "cell_type": "code",
   "execution_count": 511,
   "metadata": {},
   "outputs": [],
   "source": [
    "import nltk\n",
    "\n",
    "# nltk.download('all')\n",
    "from nltk.tokenize import sent_tokenize # tokenizes sentences\n",
    "import re\n",
    "\n",
    "from nltk import word_tokenize\n",
    "from nltk.tag import pos_tag\n",
    "from nltk.corpus import stopwords\n",
    "from nltk.corpus import wordnet\n",
    "\n",
    "eng_stopwords = stopwords.words('english')"
   ]
  },
  {
   "cell_type": "code",
   "execution_count": 512,
   "metadata": {},
   "outputs": [],
   "source": [
    "def text_cleaner(text,stem=False):\n",
    "    '''\n",
    "    1. Use regex to remove all special characters (only keep letters)\n",
    "    2. Make strings to lower case and tokenize / word split reviews\n",
    "    3. Remove English stopwords\n",
    "    4. Rejoin to one string\n",
    "    '''\n",
    "    #3. Remove punctuation\n",
    "    text = re.sub(\"[^a-zA-Z]\", \" \",text)\n",
    "    #4. Tokenize into words (all lower case)\n",
    "    text = text.lower()\n",
    "    #5. Remove stopwords\n",
    "    eng_stopwords = set(stopwords.words(\"english\"))\n",
    "\n",
    "    words = word_tokenize(text)\n",
    "    words = [w for w in words if w not in eng_stopwords]\n",
    "    return(words)"
   ]
  },
  {
   "cell_type": "code",
   "execution_count": 513,
   "metadata": {},
   "outputs": [],
   "source": [
    "def term_frequency(document, term):\n",
    "    words = text_cleaner(document)\n",
    "    number_of_words = len(words)\n",
    "    print(\"Total number of words in document 1 is\", number_of_words)\n",
    "\n",
    "    frequency_of_word = sum([1 for word in words if word.lower() == term])\n",
    "    print(\"Frequency of the word\", term, \"is\", frequency_of_word)\n",
    "\n",
    "    term_frequency = frequency_of_word / number_of_words\n",
    "    return term_frequency"
   ]
  },
  {
   "cell_type": "code",
   "execution_count": 514,
   "metadata": {},
   "outputs": [],
   "source": [
    "#text_cleaner(cleaned[0])"
   ]
  },
  {
   "cell_type": "markdown",
   "metadata": {},
   "source": [
    "## SPEECHES DATAFRAME \n",
    "### Just justices right now. we can add other people later."
   ]
  },
  {
   "cell_type": "code",
   "execution_count": 61,
   "metadata": {},
   "outputs": [],
   "source": [
    "speech = []\n",
    "for j in all_justices:\n",
    "    for i in range(1):\n",
    "        text =  dialogue(cleaned[i],j)\n",
    "        speech += [text]"
   ]
  },
  {
   "cell_type": "code",
   "execution_count": 978,
   "metadata": {},
   "outputs": [
    {
     "name": "stderr",
     "output_type": "stream",
     "text": [
      "C:\\Anaconda3\\lib\\site-packages\\pandas\\core\\frame.py:6201: FutureWarning: Sorting because non-concatenation axis is not aligned. A future version\n",
      "of pandas will change to not sort by default.\n",
      "\n",
      "To accept the future behavior, pass 'sort=True'.\n",
      "\n",
      "To retain the current behavior and silence the warning, pass sort=False\n",
      "\n",
      "  sort=sort)\n"
     ]
    }
   ],
   "source": [
    "speech_df = pd.DataFrame({'Name':[],'Case':[],'Speech':[]})\n",
    "for i in range(1302):\n",
    "    title = data['Title'].iloc[i]\n",
    "    judges = data['Justices'].iloc[i]\n",
    "    case_id = data['Case_ID'].iloc[i]\n",
    "    for j in judges:\n",
    "        words = dialogue(cleaned[i],j)\n",
    "        words = \".\".join(words)\n",
    "        speech_df = speech_df.append(pd.DataFrame({'Name':[j],'Case':[title],'Case_ID':[case_id],'Speech':[words]}))"
   ]
  },
  {
   "cell_type": "code",
   "execution_count": 980,
   "metadata": {},
   "outputs": [],
   "source": [
    "speech_df['Case_ID'] = speech_df['Case_ID'].astype(int)"
   ]
  },
  {
   "cell_type": "code",
   "execution_count": 981,
   "metadata": {
    "scrolled": true
   },
   "outputs": [
    {
     "data": {
      "text/plain": [
       "7852"
      ]
     },
     "execution_count": 981,
     "metadata": {},
     "output_type": "execute_result"
    }
   ],
   "source": [
    "len(speech_df)"
   ]
  },
  {
   "cell_type": "code",
   "execution_count": 982,
   "metadata": {},
   "outputs": [
    {
     "data": {
      "text/html": [
       "<div>\n",
       "<style scoped>\n",
       "    .dataframe tbody tr th:only-of-type {\n",
       "        vertical-align: middle;\n",
       "    }\n",
       "\n",
       "    .dataframe tbody tr th {\n",
       "        vertical-align: top;\n",
       "    }\n",
       "\n",
       "    .dataframe thead th {\n",
       "        text-align: right;\n",
       "    }\n",
       "</style>\n",
       "<table border=\"1\" class=\"dataframe\">\n",
       "  <thead>\n",
       "    <tr style=\"text-align: right;\">\n",
       "      <th></th>\n",
       "      <th>Case</th>\n",
       "      <th>Case_ID</th>\n",
       "      <th>Name</th>\n",
       "      <th>Speech</th>\n",
       "    </tr>\n",
       "  </thead>\n",
       "  <tbody>\n",
       "    <tr>\n",
       "      <th>0</th>\n",
       "      <td>14 Penn Plaza LLC v. Pyett</td>\n",
       "      <td>1</td>\n",
       "      <td>JUSTICE ALITO</td>\n",
       "      <td>Has any court decided this issue of the inter...</td>\n",
       "    </tr>\n",
       "    <tr>\n",
       "      <th>0</th>\n",
       "      <td>14 Penn Plaza LLC v. Pyett</td>\n",
       "      <td>1</td>\n",
       "      <td>JUSTICE BREYER</td>\n",
       "      <td>I ask you -- let me ask you a naive question ...</td>\n",
       "    </tr>\n",
       "    <tr>\n",
       "      <th>0</th>\n",
       "      <td>14 Penn Plaza LLC v. Pyett</td>\n",
       "      <td>1</td>\n",
       "      <td>JUSTICE GINSBURG</td>\n",
       "      <td>But here it wasn't.     . Here we are dealing...</td>\n",
       "    </tr>\n",
       "    <tr>\n",
       "      <th>0</th>\n",
       "      <td>14 Penn Plaza LLC v. Pyett</td>\n",
       "      <td>1</td>\n",
       "      <td>JUSTICE KENNEDY</td>\n",
       "      <td>Yes. What -- what - . I don't -- I don't wish...</td>\n",
       "    </tr>\n",
       "    <tr>\n",
       "      <th>0</th>\n",
       "      <td>14 Penn Plaza LLC v. Pyett</td>\n",
       "      <td>1</td>\n",
       "      <td>JUSTICE ROBERTS</td>\n",
       "      <td>We'll hear argument next in Case -, Penn Plaz...</td>\n",
       "    </tr>\n",
       "  </tbody>\n",
       "</table>\n",
       "</div>"
      ],
      "text/plain": [
       "                         Case  Case_ID              Name  \\\n",
       "0  14 Penn Plaza LLC v. Pyett        1     JUSTICE ALITO   \n",
       "0  14 Penn Plaza LLC v. Pyett        1    JUSTICE BREYER   \n",
       "0  14 Penn Plaza LLC v. Pyett        1  JUSTICE GINSBURG   \n",
       "0  14 Penn Plaza LLC v. Pyett        1   JUSTICE KENNEDY   \n",
       "0  14 Penn Plaza LLC v. Pyett        1   JUSTICE ROBERTS   \n",
       "\n",
       "                                              Speech  \n",
       "0   Has any court decided this issue of the inter...  \n",
       "0   I ask you -- let me ask you a naive question ...  \n",
       "0   But here it wasn't.     . Here we are dealing...  \n",
       "0   Yes. What -- what - . I don't -- I don't wish...  \n",
       "0   We'll hear argument next in Case -, Penn Plaz...  "
      ]
     },
     "execution_count": 982,
     "metadata": {},
     "output_type": "execute_result"
    }
   ],
   "source": [
    "speech_df.head()"
   ]
  },
  {
   "cell_type": "markdown",
   "metadata": {},
   "source": [
    "### This table contains everything that each justice says, in every court case.\n",
    "Remember that we will have missing values because in some cases, the rest of the justices are labeled as \"QUESTION:\" so we don't actually know who is speaking."
   ]
  },
  {
   "cell_type": "code",
   "execution_count": 522,
   "metadata": {},
   "outputs": [
    {
     "data": {
      "text/html": [
       "<div>\n",
       "<style scoped>\n",
       "    .dataframe tbody tr th:only-of-type {\n",
       "        vertical-align: middle;\n",
       "    }\n",
       "\n",
       "    .dataframe tbody tr th {\n",
       "        vertical-align: top;\n",
       "    }\n",
       "\n",
       "    .dataframe thead th {\n",
       "        text-align: right;\n",
       "    }\n",
       "</style>\n",
       "<table border=\"1\" class=\"dataframe\">\n",
       "  <thead>\n",
       "    <tr style=\"text-align: right;\">\n",
       "      <th></th>\n",
       "      <th>Case</th>\n",
       "      <th>Case_ID</th>\n",
       "      <th>Dialogue</th>\n",
       "      <th>Name</th>\n",
       "    </tr>\n",
       "  </thead>\n",
       "  <tbody>\n",
       "    <tr>\n",
       "      <th>0</th>\n",
       "      <td>14 Penn Plaza LLC v. Pyett</td>\n",
       "      <td>1</td>\n",
       "      <td>Has any court decided this issue of the inter...</td>\n",
       "      <td>JUSTICE ALITO</td>\n",
       "    </tr>\n",
       "    <tr>\n",
       "      <th>0</th>\n",
       "      <td>14 Penn Plaza LLC v. Pyett</td>\n",
       "      <td>1</td>\n",
       "      <td>I ask you -- let me ask you a naive question ...</td>\n",
       "      <td>JUSTICE BREYER</td>\n",
       "    </tr>\n",
       "    <tr>\n",
       "      <th>0</th>\n",
       "      <td>14 Penn Plaza LLC v. Pyett</td>\n",
       "      <td>1</td>\n",
       "      <td>But here it wasn't.     . Here we are dealing...</td>\n",
       "      <td>JUSTICE GINSBURG</td>\n",
       "    </tr>\n",
       "    <tr>\n",
       "      <th>0</th>\n",
       "      <td>14 Penn Plaza LLC v. Pyett</td>\n",
       "      <td>1</td>\n",
       "      <td>Yes. What -- what - . I don't -- I don't wish...</td>\n",
       "      <td>JUSTICE KENNEDY</td>\n",
       "    </tr>\n",
       "    <tr>\n",
       "      <th>0</th>\n",
       "      <td>14 Penn Plaza LLC v. Pyett</td>\n",
       "      <td>1</td>\n",
       "      <td>We'll hear argument next in Case -, Penn Plaz...</td>\n",
       "      <td>JUSTICE ROBERTS</td>\n",
       "    </tr>\n",
       "  </tbody>\n",
       "</table>\n",
       "</div>"
      ],
      "text/plain": [
       "                         Case  Case_ID  \\\n",
       "0  14 Penn Plaza LLC v. Pyett        1   \n",
       "0  14 Penn Plaza LLC v. Pyett        1   \n",
       "0  14 Penn Plaza LLC v. Pyett        1   \n",
       "0  14 Penn Plaza LLC v. Pyett        1   \n",
       "0  14 Penn Plaza LLC v. Pyett        1   \n",
       "\n",
       "                                            Dialogue              Name  \n",
       "0   Has any court decided this issue of the inter...     JUSTICE ALITO  \n",
       "0   I ask you -- let me ask you a naive question ...    JUSTICE BREYER  \n",
       "0   But here it wasn't.     . Here we are dealing...  JUSTICE GINSBURG  \n",
       "0   Yes. What -- what - . I don't -- I don't wish...   JUSTICE KENNEDY  \n",
       "0   We'll hear argument next in Case -, Penn Plaz...   JUSTICE ROBERTS  "
      ]
     },
     "execution_count": 522,
     "metadata": {},
     "output_type": "execute_result"
    }
   ],
   "source": [
    "speech_df.head()"
   ]
  },
  {
   "cell_type": "code",
   "execution_count": 523,
   "metadata": {
    "scrolled": true
   },
   "outputs": [],
   "source": [
    "#data[['Justices']]"
   ]
  },
  {
   "cell_type": "code",
   "execution_count": 524,
   "metadata": {},
   "outputs": [],
   "source": [
    "#cleaned[1123]"
   ]
  },
  {
   "cell_type": "code",
   "execution_count": 525,
   "metadata": {},
   "outputs": [],
   "source": [
    "#speech_df.to_csv('speeched_db.csv')"
   ]
  },
  {
   "cell_type": "code",
   "execution_count": 526,
   "metadata": {
    "scrolled": false
   },
   "outputs": [
    {
     "data": {
      "text/plain": [
       "Case        False\n",
       "Case_ID     False\n",
       "Dialogue    False\n",
       "Name        False\n",
       "dtype: bool"
      ]
     },
     "execution_count": 526,
     "metadata": {},
     "output_type": "execute_result"
    }
   ],
   "source": [
    "speech_df.isnull().any()"
   ]
  },
  {
   "cell_type": "markdown",
   "metadata": {},
   "source": [
    "### Working on everyone else's speeches"
   ]
  },
  {
   "cell_type": "code",
   "execution_count": 934,
   "metadata": {},
   "outputs": [],
   "source": [
    "people_df = pd.read_csv(r\"C:\\Users\\Avena Cheng\\Desktop\\Liberating Archives\\people.csv\")\n",
    "people_df = people_df.drop(1878).drop(1435).drop(1815)\n",
    "people_df = people_df.reset_index().drop('index',axis=1).drop('Unnamed: 0',axis=1)\n",
    "for i in people_df.loc[people_df['Name'] == 'DOUGLAS HALLWARD'].index:\n",
    "    people_df['Name'][i] == \"DOUGLAS HALLWARD-DRIEMEIER\"\n",
    "for i in people_df.loc[people_df['Name'] == \"BONNIE I. ROBIN\"].index:\n",
    "    people_df['Name'][i] = 'BONNIE I. ROBIN-VERGEER'"
   ]
  },
  {
   "cell_type": "code",
   "execution_count": 935,
   "metadata": {},
   "outputs": [
    {
     "data": {
      "text/plain": [
       "3272"
      ]
     },
     "execution_count": 935,
     "metadata": {},
     "output_type": "execute_result"
    }
   ],
   "source": [
    "len(people_df)"
   ]
  },
  {
   "cell_type": "markdown",
   "metadata": {},
   "source": [
    "#### Approach:\n",
    "1. Find all the last names of people\n",
    "2. Using regex, perform the same for loop as your did with justices, but substitute with people. \n",
    "3. Good luck."
   ]
  },
  {
   "cell_type": "code",
   "execution_count": 958,
   "metadata": {},
   "outputs": [],
   "source": [
    "last_names = []\n",
    "for i in range(3272):\n",
    "    name = people_df['Name'][i]\n",
    "    if 'ESQ' in name:\n",
    "        name = name.strip('ESQ')\n",
    "    if len(re.findall('\\.+',name)) > 0: # For those with middle names\n",
    "        names = re.findall(\"[A-Z\\'*a-z*]+\",name)\n",
    "        if len(re.findall('[a-z]+',name))>0: # For those with a name like \"McKINSEY\" or \"DeLONE\"\n",
    "            last_names += [names[len(names)-1]]\n",
    "        else:\n",
    "            last_names += [names[len(names)-1]]\n",
    "    else: # For those w/o middle names\n",
    "        names = re.findall('[A-Z\\'*a-z*]+',name)\n",
    "        if len(re.findall('[a-z]+',name))>0:\n",
    "            last_names += [names[len(names)-1]]\n",
    "        else:\n",
    "            last_names += [names[len(names)-1]]"
   ]
  },
  {
   "cell_type": "code",
   "execution_count": 966,
   "metadata": {},
   "outputs": [],
   "source": [
    "# Fixing spelling mistakes\n",
    "last_names[2200] = 'LABELLE'\n",
    "last_names[554] = 'GERSHENGORN'\n",
    "last_names[2809] = 'GOLDENBERG'\n",
    "last_names[1503] = 'McALLISTER'\n",
    "last_names[2601] = 'ROSENCRANZ'\n",
    "indices_hallward = [i for i, x in enumerate(last_names) if x == \"HALLWARD\"]\n",
    "indices_robin = [i for i, x in enumerate(last_names) if x == \"ROBIN\"]\n",
    "\n",
    "for i in indices_hallward:\n",
    "    last_names[i] = 'HALLWARD-DRIEMEIER'\n",
    "for i in indices_robin:\n",
    "    last_names[i] = 'ROBIN-VERGEER'"
   ]
  },
  {
   "cell_type": "code",
   "execution_count": 968,
   "metadata": {
    "scrolled": true
   },
   "outputs": [
    {
     "data": {
      "text/html": [
       "<div>\n",
       "<style scoped>\n",
       "    .dataframe tbody tr th:only-of-type {\n",
       "        vertical-align: middle;\n",
       "    }\n",
       "\n",
       "    .dataframe tbody tr th {\n",
       "        vertical-align: top;\n",
       "    }\n",
       "\n",
       "    .dataframe thead th {\n",
       "        text-align: right;\n",
       "    }\n",
       "</style>\n",
       "<table border=\"1\" class=\"dataframe\">\n",
       "  <thead>\n",
       "    <tr style=\"text-align: right;\">\n",
       "      <th></th>\n",
       "      <th>Name</th>\n",
       "      <th>Case</th>\n",
       "      <th>Last</th>\n",
       "    </tr>\n",
       "  </thead>\n",
       "  <tbody>\n",
       "    <tr>\n",
       "      <th>0</th>\n",
       "      <td>PAUL SALVATORE</td>\n",
       "      <td>14 Penn Plaza LLC v. Pyett</td>\n",
       "      <td>SALVATORE</td>\n",
       "    </tr>\n",
       "    <tr>\n",
       "      <th>1</th>\n",
       "      <td>DAVID C. FREDERICK</td>\n",
       "      <td>14 Penn Plaza LLC v. Pyett</td>\n",
       "      <td>FREDERICK</td>\n",
       "    </tr>\n",
       "    <tr>\n",
       "      <th>2</th>\n",
       "      <td>CURTIS E. GANNON</td>\n",
       "      <td>14 Penn Plaza LLC v. Pyett</td>\n",
       "      <td>GANNON</td>\n",
       "    </tr>\n",
       "    <tr>\n",
       "      <th>3</th>\n",
       "      <td>SCOTT A. KELLER</td>\n",
       "      <td>Abbott v. Perez</td>\n",
       "      <td>KELLER</td>\n",
       "    </tr>\n",
       "    <tr>\n",
       "      <th>4</th>\n",
       "      <td>EDWIN S. KNEEDLER</td>\n",
       "      <td>Abbott v. Perez</td>\n",
       "      <td>KNEEDLER</td>\n",
       "    </tr>\n",
       "  </tbody>\n",
       "</table>\n",
       "</div>"
      ],
      "text/plain": [
       "                 Name                        Case       Last\n",
       "0      PAUL SALVATORE  14 Penn Plaza LLC v. Pyett  SALVATORE\n",
       "1  DAVID C. FREDERICK  14 Penn Plaza LLC v. Pyett  FREDERICK\n",
       "2    CURTIS E. GANNON  14 Penn Plaza LLC v. Pyett     GANNON\n",
       "3     SCOTT A. KELLER             Abbott v. Perez     KELLER\n",
       "4   EDWIN S. KNEEDLER             Abbott v. Perez   KNEEDLER"
      ]
     },
     "execution_count": 968,
     "metadata": {},
     "output_type": "execute_result"
    }
   ],
   "source": [
    "people_df.head()"
   ]
  },
  {
   "cell_type": "code",
   "execution_count": 1582,
   "metadata": {},
   "outputs": [],
   "source": [
    "speech_cols = [i.lower() for i in speech_table.columns]\n",
    "speech_table.columns = speech_cols\n",
    "#speech_table = speech_table.drop('speech',axis=1)\n",
    "people_cols = [i.lower() for i in people_df.columns]\n",
    "people_df.columns = people_cols\n",
    "people_df = people_df.rename({'case':'title'},axis=1)"
   ]
  },
  {
   "cell_type": "code",
   "execution_count": 1583,
   "metadata": {
    "scrolled": true
   },
   "outputs": [],
   "source": [
    "people_df['last'] = last_names\n",
    "#case_table = data[['Title','Case_ID']]\n",
    "case_table = case_table.rename({'Title':'title','Case_ID':'case_id'},axis=1)\n",
    "speech_table = pd.merge(people_df,case_table)"
   ]
  },
  {
   "cell_type": "code",
   "execution_count": 1584,
   "metadata": {
    "scrolled": true
   },
   "outputs": [
    {
     "data": {
      "text/plain": [
       "3272"
      ]
     },
     "execution_count": 1584,
     "metadata": {},
     "output_type": "execute_result"
    }
   ],
   "source": [
    "len(speech_table)"
   ]
  },
  {
   "cell_type": "code",
   "execution_count": null,
   "metadata": {},
   "outputs": [],
   "source": []
  },
  {
   "cell_type": "code",
   "execution_count": 1406,
   "metadata": {},
   "outputs": [
    {
     "ename": "KeyboardInterrupt",
     "evalue": "",
     "output_type": "error",
     "traceback": [
      "\u001b[1;31m---------------------------------------------------------------------------\u001b[0m",
      "\u001b[1;31mKeyboardInterrupt\u001b[0m                         Traceback (most recent call last)",
      "\u001b[1;32m<ipython-input-1406-ef9ff5921ac0>\u001b[0m in \u001b[0;36m<module>\u001b[1;34m()\u001b[0m\n\u001b[0;32m      3\u001b[0m \u001b[1;32mfor\u001b[0m \u001b[0mi\u001b[0m \u001b[1;32min\u001b[0m \u001b[0mrange\u001b[0m\u001b[1;33m(\u001b[0m\u001b[1;36m3272\u001b[0m\u001b[1;33m)\u001b[0m\u001b[1;33m:\u001b[0m\u001b[1;33m\u001b[0m\u001b[0m\n\u001b[0;32m      4\u001b[0m     \u001b[0mcaseid\u001b[0m \u001b[1;33m=\u001b[0m \u001b[0mspeech_table\u001b[0m\u001b[1;33m[\u001b[0m\u001b[1;34m'Case_ID'\u001b[0m\u001b[1;33m]\u001b[0m\u001b[1;33m[\u001b[0m\u001b[0mi\u001b[0m\u001b[1;33m]\u001b[0m\u001b[1;33m-\u001b[0m\u001b[1;36m1\u001b[0m\u001b[1;33m\u001b[0m\u001b[0m\n\u001b[1;32m----> 5\u001b[1;33m     \u001b[0md\u001b[0m \u001b[1;33m=\u001b[0m \u001b[0mdialogue\u001b[0m\u001b[1;33m(\u001b[0m\u001b[0mcleaned\u001b[0m\u001b[1;33m[\u001b[0m\u001b[0mcaseid\u001b[0m\u001b[1;33m]\u001b[0m\u001b[1;33m,\u001b[0m\u001b[0mspeech_table\u001b[0m\u001b[1;33m[\u001b[0m\u001b[1;34m'Last'\u001b[0m\u001b[1;33m]\u001b[0m\u001b[1;33m[\u001b[0m\u001b[0mi\u001b[0m\u001b[1;33m]\u001b[0m\u001b[1;33m)\u001b[0m\u001b[1;33m\u001b[0m\u001b[0m\n\u001b[0m\u001b[0;32m      6\u001b[0m     \u001b[0md\u001b[0m \u001b[1;33m=\u001b[0m \u001b[1;34m\".\"\u001b[0m\u001b[1;33m.\u001b[0m\u001b[0mjoin\u001b[0m\u001b[1;33m(\u001b[0m\u001b[0md\u001b[0m\u001b[1;33m)\u001b[0m\u001b[1;33m\u001b[0m\u001b[0m\n\u001b[0;32m      7\u001b[0m     \u001b[1;32mif\u001b[0m \u001b[0mlen\u001b[0m\u001b[1;33m(\u001b[0m\u001b[0md\u001b[0m\u001b[1;33m)\u001b[0m \u001b[1;33m>\u001b[0m \u001b[1;36m0\u001b[0m\u001b[1;33m:\u001b[0m\u001b[1;33m\u001b[0m\u001b[0m\n",
      "\u001b[1;32m<ipython-input-450-12a8dee583cd>\u001b[0m in \u001b[0;36mdialogue\u001b[1;34m(text, person)\u001b[0m\n\u001b[0;32m      6\u001b[0m \u001b[1;32mdef\u001b[0m \u001b[0mdialogue\u001b[0m\u001b[1;33m(\u001b[0m\u001b[0mtext\u001b[0m\u001b[1;33m,\u001b[0m\u001b[0mperson\u001b[0m\u001b[1;33m)\u001b[0m\u001b[1;33m:\u001b[0m\u001b[1;33m\u001b[0m\u001b[0m\n\u001b[0;32m      7\u001b[0m     \u001b[0mpattern\u001b[0m \u001b[1;33m=\u001b[0m \u001b[0mre\u001b[0m\u001b[1;33m.\u001b[0m\u001b[0mescape\u001b[0m\u001b[1;33m(\u001b[0m\u001b[0mperson\u001b[0m\u001b[1;33m)\u001b[0m\u001b[1;33m+\u001b[0m\u001b[1;34mr\":[\\s\\S]+?[A-Z]+\\s*?:\"\u001b[0m\u001b[1;33m\u001b[0m\u001b[0m\n\u001b[1;32m----> 8\u001b[1;33m     \u001b[0msents\u001b[0m \u001b[1;33m=\u001b[0m \u001b[0mre\u001b[0m\u001b[1;33m.\u001b[0m\u001b[0mfindall\u001b[0m\u001b[1;33m(\u001b[0m\u001b[0mpattern\u001b[0m\u001b[1;33m,\u001b[0m\u001b[0mtext\u001b[0m\u001b[1;33m)\u001b[0m \u001b[1;31m#regex pattern to find all instances\u001b[0m\u001b[1;33m\u001b[0m\u001b[0m\n\u001b[0m\u001b[0;32m      9\u001b[0m     \u001b[0msents\u001b[0m \u001b[1;33m=\u001b[0m \u001b[1;33m[\u001b[0m\u001b[0mre\u001b[0m\u001b[1;33m.\u001b[0m\u001b[0msub\u001b[0m\u001b[1;33m(\u001b[0m\u001b[1;34m'\\d'\u001b[0m\u001b[1;33m,\u001b[0m\u001b[1;34m''\u001b[0m\u001b[1;33m,\u001b[0m\u001b[0mi\u001b[0m\u001b[1;33m)\u001b[0m \u001b[1;32mfor\u001b[0m \u001b[0mi\u001b[0m \u001b[1;32min\u001b[0m \u001b[0msents\u001b[0m\u001b[1;33m]\u001b[0m \u001b[1;31m# cleaning transcript\u001b[0m\u001b[1;33m\u001b[0m\u001b[0m\n\u001b[0;32m     10\u001b[0m     \u001b[0msents\u001b[0m \u001b[1;33m=\u001b[0m \u001b[1;33m[\u001b[0m\u001b[0mre\u001b[0m\u001b[1;33m.\u001b[0m\u001b[0msub\u001b[0m\u001b[1;33m(\u001b[0m\u001b[1;34m'[\\s\\s]+'\u001b[0m\u001b[1;33m,\u001b[0m\u001b[1;34m' '\u001b[0m\u001b[1;33m,\u001b[0m\u001b[0mi\u001b[0m\u001b[1;33m)\u001b[0m \u001b[1;32mfor\u001b[0m \u001b[0mi\u001b[0m \u001b[1;32min\u001b[0m \u001b[0msents\u001b[0m\u001b[1;33m]\u001b[0m \u001b[1;31m#cleaning transcript\u001b[0m\u001b[1;33m\u001b[0m\u001b[0m\n",
      "\u001b[1;31mKeyboardInterrupt\u001b[0m: "
     ]
    }
   ],
   "source": [
    "#takes about 2 minutes to run\n",
    "speeches=[]\n",
    "for i in range(3272):\n",
    "    caseid = speech_table['Case_ID'][i]-1\n",
    "    d = dialogue(cleaned[caseid],speech_table['Last'][i])\n",
    "    d = \".\".join(d)\n",
    "    if len(d) > 0:\n",
    "        speeches += [d]\n",
    "    else:\n",
    "        speeches += ['Null']"
   ]
  },
  {
   "cell_type": "code",
   "execution_count": 1404,
   "metadata": {},
   "outputs": [],
   "source": [
    "speech_table['Speech']=speeches"
   ]
  },
  {
   "cell_type": "code",
   "execution_count": 1405,
   "metadata": {},
   "outputs": [
    {
     "data": {
      "text/html": [
       "<div>\n",
       "<style scoped>\n",
       "    .dataframe tbody tr th:only-of-type {\n",
       "        vertical-align: middle;\n",
       "    }\n",
       "\n",
       "    .dataframe tbody tr th {\n",
       "        vertical-align: top;\n",
       "    }\n",
       "\n",
       "    .dataframe thead th {\n",
       "        text-align: right;\n",
       "    }\n",
       "</style>\n",
       "<table border=\"1\" class=\"dataframe\">\n",
       "  <thead>\n",
       "    <tr style=\"text-align: right;\">\n",
       "      <th></th>\n",
       "      <th>Name</th>\n",
       "      <th>Case</th>\n",
       "      <th>Last</th>\n",
       "      <th>Case_ID</th>\n",
       "      <th>Speech</th>\n",
       "      <th>text</th>\n",
       "    </tr>\n",
       "  </thead>\n",
       "  <tbody>\n",
       "    <tr>\n",
       "      <th>0</th>\n",
       "      <td>PAUL SALVATORE</td>\n",
       "      <td>14 Penn Plaza LLC v. Pyett</td>\n",
       "      <td>SALVATORE</td>\n",
       "      <td>1</td>\n",
       "      <td>Thank you, Mr. Chief Justice, and may it plea...</td>\n",
       "      <td>Thank you, Mr. Chief Justice, and may it plea...</td>\n",
       "    </tr>\n",
       "    <tr>\n",
       "      <th>1</th>\n",
       "      <td>DAVID C. FREDERICK</td>\n",
       "      <td>14 Penn Plaza LLC v. Pyett</td>\n",
       "      <td>FREDERICK</td>\n",
       "      <td>1</td>\n",
       "      <td>Thank you, Mr. Chief Justice, and may it plea...</td>\n",
       "      <td>Thank you, Mr. Chief Justice, and may it plea...</td>\n",
       "    </tr>\n",
       "    <tr>\n",
       "      <th>2</th>\n",
       "      <td>CURTIS E. GANNON</td>\n",
       "      <td>14 Penn Plaza LLC v. Pyett</td>\n",
       "      <td>GANNON</td>\n",
       "      <td>1</td>\n",
       "      <td>Mr. Chief Justice, and may it please the Cour...</td>\n",
       "      <td>Mr. Chief Justice, and may it please the Cour...</td>\n",
       "    </tr>\n",
       "    <tr>\n",
       "      <th>3</th>\n",
       "      <td>SCOTT A. KELLER</td>\n",
       "      <td>Abbott v. Perez</td>\n",
       "      <td>KELLER</td>\n",
       "      <td>2</td>\n",
       "      <td>Thank you, Mr. Chief Justice, and may it plea...</td>\n",
       "      <td>Thank you, Mr. Chief Justice, and may it plea...</td>\n",
       "    </tr>\n",
       "    <tr>\n",
       "      <th>4</th>\n",
       "      <td>EDWIN S. KNEEDLER</td>\n",
       "      <td>Abbott v. Perez</td>\n",
       "      <td>KNEEDLER</td>\n",
       "      <td>2</td>\n",
       "      <td>Mr. Chief Justice, and may it please the Cour...</td>\n",
       "      <td>Mr. Chief Justice, and may it please the Cour...</td>\n",
       "    </tr>\n",
       "  </tbody>\n",
       "</table>\n",
       "</div>"
      ],
      "text/plain": [
       "                 Name                        Case       Last  Case_ID  \\\n",
       "0      PAUL SALVATORE  14 Penn Plaza LLC v. Pyett  SALVATORE        1   \n",
       "1  DAVID C. FREDERICK  14 Penn Plaza LLC v. Pyett  FREDERICK        1   \n",
       "2    CURTIS E. GANNON  14 Penn Plaza LLC v. Pyett     GANNON        1   \n",
       "3     SCOTT A. KELLER             Abbott v. Perez     KELLER        2   \n",
       "4   EDWIN S. KNEEDLER             Abbott v. Perez   KNEEDLER        2   \n",
       "\n",
       "                                              Speech  \\\n",
       "0   Thank you, Mr. Chief Justice, and may it plea...   \n",
       "1   Thank you, Mr. Chief Justice, and may it plea...   \n",
       "2   Mr. Chief Justice, and may it please the Cour...   \n",
       "3   Thank you, Mr. Chief Justice, and may it plea...   \n",
       "4   Mr. Chief Justice, and may it please the Cour...   \n",
       "\n",
       "                                                text  \n",
       "0   Thank you, Mr. Chief Justice, and may it plea...  \n",
       "1   Thank you, Mr. Chief Justice, and may it plea...  \n",
       "2   Mr. Chief Justice, and may it please the Cour...  \n",
       "3   Thank you, Mr. Chief Justice, and may it plea...  \n",
       "4   Mr. Chief Justice, and may it please the Cour...  "
      ]
     },
     "execution_count": 1405,
     "metadata": {},
     "output_type": "execute_result"
    }
   ],
   "source": [
    "speech_table.head()"
   ]
  },
  {
   "cell_type": "code",
   "execution_count": 1402,
   "metadata": {},
   "outputs": [
    {
     "data": {
      "text/html": [
       "<div>\n",
       "<style scoped>\n",
       "    .dataframe tbody tr th:only-of-type {\n",
       "        vertical-align: middle;\n",
       "    }\n",
       "\n",
       "    .dataframe tbody tr th {\n",
       "        vertical-align: top;\n",
       "    }\n",
       "\n",
       "    .dataframe thead th {\n",
       "        text-align: right;\n",
       "    }\n",
       "</style>\n",
       "<table border=\"1\" class=\"dataframe\">\n",
       "  <thead>\n",
       "    <tr style=\"text-align: right;\">\n",
       "      <th></th>\n",
       "      <th>Case</th>\n",
       "      <th>Case_ID</th>\n",
       "      <th>Name</th>\n",
       "      <th>Speech</th>\n",
       "    </tr>\n",
       "  </thead>\n",
       "  <tbody>\n",
       "    <tr>\n",
       "      <th>0</th>\n",
       "      <td>14 Penn Plaza LLC v. Pyett</td>\n",
       "      <td>1</td>\n",
       "      <td>JUSTICE ALITO</td>\n",
       "      <td>Has any court decided this issue of the inter...</td>\n",
       "    </tr>\n",
       "    <tr>\n",
       "      <th>0</th>\n",
       "      <td>14 Penn Plaza LLC v. Pyett</td>\n",
       "      <td>1</td>\n",
       "      <td>JUSTICE BREYER</td>\n",
       "      <td>I ask you -- let me ask you a naive question ...</td>\n",
       "    </tr>\n",
       "    <tr>\n",
       "      <th>0</th>\n",
       "      <td>14 Penn Plaza LLC v. Pyett</td>\n",
       "      <td>1</td>\n",
       "      <td>JUSTICE GINSBURG</td>\n",
       "      <td>But here it wasn't.     . Here we are dealing...</td>\n",
       "    </tr>\n",
       "    <tr>\n",
       "      <th>0</th>\n",
       "      <td>14 Penn Plaza LLC v. Pyett</td>\n",
       "      <td>1</td>\n",
       "      <td>JUSTICE KENNEDY</td>\n",
       "      <td>Yes. What -- what - . I don't -- I don't wish...</td>\n",
       "    </tr>\n",
       "    <tr>\n",
       "      <th>0</th>\n",
       "      <td>14 Penn Plaza LLC v. Pyett</td>\n",
       "      <td>1</td>\n",
       "      <td>JUSTICE ROBERTS</td>\n",
       "      <td>We'll hear argument next in Case -, Penn Plaz...</td>\n",
       "    </tr>\n",
       "  </tbody>\n",
       "</table>\n",
       "</div>"
      ],
      "text/plain": [
       "                         Case  Case_ID              Name  \\\n",
       "0  14 Penn Plaza LLC v. Pyett        1     JUSTICE ALITO   \n",
       "0  14 Penn Plaza LLC v. Pyett        1    JUSTICE BREYER   \n",
       "0  14 Penn Plaza LLC v. Pyett        1  JUSTICE GINSBURG   \n",
       "0  14 Penn Plaza LLC v. Pyett        1   JUSTICE KENNEDY   \n",
       "0  14 Penn Plaza LLC v. Pyett        1   JUSTICE ROBERTS   \n",
       "\n",
       "                                              Speech  \n",
       "0   Has any court decided this issue of the inter...  \n",
       "0   I ask you -- let me ask you a naive question ...  \n",
       "0   But here it wasn't.     . Here we are dealing...  \n",
       "0   Yes. What -- what - . I don't -- I don't wish...  \n",
       "0   We'll hear argument next in Case -, Penn Plaz...  "
      ]
     },
     "execution_count": 1402,
     "metadata": {},
     "output_type": "execute_result"
    }
   ],
   "source": [
    "speech_df.head()"
   ]
  },
  {
   "cell_type": "code",
   "execution_count": 1294,
   "metadata": {},
   "outputs": [
    {
     "data": {
      "text/plain": [
       "3272"
      ]
     },
     "execution_count": 1294,
     "metadata": {},
     "output_type": "execute_result"
    }
   ],
   "source": [
    "len(speech_table)"
   ]
  },
  {
   "cell_type": "code",
   "execution_count": 1295,
   "metadata": {
    "scrolled": true
   },
   "outputs": [
    {
     "name": "stderr",
     "output_type": "stream",
     "text": [
      "C:\\Anaconda3\\lib\\site-packages\\pandas\\core\\frame.py:6201: FutureWarning: Sorting because non-concatenation axis is not aligned. A future version\n",
      "of pandas will change to not sort by default.\n",
      "\n",
      "To accept the future behavior, pass 'sort=True'.\n",
      "\n",
      "To retain the current behavior and silence the warning, pass sort=False\n",
      "\n",
      "  sort=sort)\n"
     ]
    }
   ],
   "source": [
    "everyone_speech = speech_table.append(speech_df).drop('Last',axis=1)"
   ]
  },
  {
   "cell_type": "code",
   "execution_count": 1408,
   "metadata": {},
   "outputs": [],
   "source": [
    "everyone_speech=everyone_speech.rename({'speech':'text'},axis=1)"
   ]
  },
  {
   "cell_type": "code",
   "execution_count": 1409,
   "metadata": {
    "scrolled": true
   },
   "outputs": [
    {
     "data": {
      "text/plain": [
       "11087"
      ]
     },
     "execution_count": 1409,
     "metadata": {},
     "output_type": "execute_result"
    }
   ],
   "source": [
    "len(everyone_speech)"
   ]
  },
  {
   "cell_type": "markdown",
   "metadata": {},
   "source": [
    "#### Exploring Null Cases\n",
    "\n",
    "So far I've discovered why there are null cases:\n",
    "1. problems with my \"last name\" extraction (i.e. some people have hyphens, such as HALLWARD-); **fixed**\n",
    "2. SPELLING ERRORS ON THE REPORTING COMPANY'S BEHALF  **fixed**\n",
    " * Case 221: it should be GERSHERNGORN not GERSHENGORN\n",
    " * Case 1032: ROSENKRANZ vs ROSENCRANZ\n",
    " * Case 1113: GOLDENBERG vs GOLENDBERG\n",
    "3. Slight errors in my function for finding \"appearances\" -- these cases should simply be deleted. **fixed**\n",
    " * Case 744: diff(cleaned[743]) will return GENERAL because of the regex pattern)\n",
    " * Case 569: AFSCME Council\n",
    " * Case 719: Services\n",
    "4. Case 870: LaBELLE is null because whenever she speaks, her name is fully capitalized despited the lowercase 'a'. **fixed**"
   ]
  },
  {
   "cell_type": "code",
   "execution_count": 974,
   "metadata": {
    "scrolled": true
   },
   "outputs": [
    {
     "data": {
      "text/html": [
       "<div>\n",
       "<style scoped>\n",
       "    .dataframe tbody tr th:only-of-type {\n",
       "        vertical-align: middle;\n",
       "    }\n",
       "\n",
       "    .dataframe tbody tr th {\n",
       "        vertical-align: top;\n",
       "    }\n",
       "\n",
       "    .dataframe thead th {\n",
       "        text-align: right;\n",
       "    }\n",
       "</style>\n",
       "<table border=\"1\" class=\"dataframe\">\n",
       "  <thead>\n",
       "    <tr style=\"text-align: right;\">\n",
       "      <th></th>\n",
       "      <th>Name</th>\n",
       "      <th>Case</th>\n",
       "      <th>Last</th>\n",
       "      <th>Case_ID</th>\n",
       "      <th>Speech</th>\n",
       "    </tr>\n",
       "  </thead>\n",
       "  <tbody>\n",
       "  </tbody>\n",
       "</table>\n",
       "</div>"
      ],
      "text/plain": [
       "Empty DataFrame\n",
       "Columns: [Name, Case, Last, Case_ID, Speech]\n",
       "Index: []"
      ]
     },
     "execution_count": 974,
     "metadata": {},
     "output_type": "execute_result"
    }
   ],
   "source": [
    "speech_table.loc[speech_table['Speech'] == 'Null']"
   ]
  },
  {
   "cell_type": "markdown",
   "metadata": {},
   "source": [
    "##### Convert speech to sql\n",
    "\n"
   ]
  },
  {
   "cell_type": "code",
   "execution_count": 89,
   "metadata": {},
   "outputs": [],
   "source": [
    "speech_df = speech_df.reset_index().drop('index',axis=1).head()"
   ]
  },
  {
   "cell_type": "code",
   "execution_count": 1277,
   "metadata": {
    "scrolled": true
   },
   "outputs": [
    {
     "data": {
      "text/plain": [
       "0    \n",
       "0    \n",
       "Name: Speech, dtype: object"
      ]
     },
     "execution_count": 1277,
     "metadata": {},
     "output_type": "execute_result"
    }
   ],
   "source": [
    "speech_df.loc[speech_df['Case']==\"American Trucking Assns., Inc. v. Browner\"]['Speech']"
   ]
  },
  {
   "cell_type": "code",
   "execution_count": 1289,
   "metadata": {},
   "outputs": [
    {
     "data": {
      "text/plain": [
       "7815"
      ]
     },
     "execution_count": 1289,
     "metadata": {},
     "output_type": "execute_result"
    }
   ],
   "source": [
    "len(speech_df)-37"
   ]
  },
  {
   "cell_type": "code",
   "execution_count": 1291,
   "metadata": {},
   "outputs": [],
   "source": [
    "speech_df = speech_df.loc[speech_df['Speech']!='']"
   ]
  },
  {
   "cell_type": "code",
   "execution_count": 1276,
   "metadata": {},
   "outputs": [
    {
     "data": {
      "text/plain": [
       "['REHNQUIST']"
      ]
     },
     "execution_count": 1276,
     "metadata": {},
     "output_type": "execute_result"
    }
   ],
   "source": [
    "re.findall('REHNQUIST',cleaned[36])"
   ]
  },
  {
   "cell_type": "code",
   "execution_count": 1411,
   "metadata": {},
   "outputs": [],
   "source": [
    "import sqlite3\n",
    "con = sqlite3.connect(\"database.db\")\n",
    "\n",
    "everyone_speech.to_sql(\"speech\", con, if_exists=\"replace\")\n"
   ]
  },
  {
   "cell_type": "code",
   "execution_count": 1412,
   "metadata": {},
   "outputs": [],
   "source": [
    "everyone_speech.to_csv('speeches_db.csv')"
   ]
  },
  {
   "cell_type": "code",
   "execution_count": 1608,
   "metadata": {},
   "outputs": [
    {
     "data": {
      "text/html": [
       "<div>\n",
       "<style scoped>\n",
       "    .dataframe tbody tr th:only-of-type {\n",
       "        vertical-align: middle;\n",
       "    }\n",
       "\n",
       "    .dataframe tbody tr th {\n",
       "        vertical-align: top;\n",
       "    }\n",
       "\n",
       "    .dataframe thead th {\n",
       "        text-align: right;\n",
       "    }\n",
       "</style>\n",
       "<table border=\"1\" class=\"dataframe\">\n",
       "  <thead>\n",
       "    <tr style=\"text-align: right;\">\n",
       "      <th></th>\n",
       "      <th>Case</th>\n",
       "      <th>Case_ID</th>\n",
       "      <th>Name</th>\n",
       "      <th>Score</th>\n",
       "    </tr>\n",
       "  </thead>\n",
       "  <tbody>\n",
       "    <tr>\n",
       "      <th>0</th>\n",
       "      <td>14 Penn Plaza LLC v. Pyett</td>\n",
       "      <td>1</td>\n",
       "      <td>PAUL SALVATORE</td>\n",
       "      <td>0.9998</td>\n",
       "    </tr>\n",
       "  </tbody>\n",
       "</table>\n",
       "</div>"
      ],
      "text/plain": [
       "                         Case  Case_ID            Name   Score\n",
       "0  14 Penn Plaza LLC v. Pyett        1  PAUL SALVATORE  0.9998"
      ]
     },
     "execution_count": 1608,
     "metadata": {},
     "output_type": "execute_result"
    }
   ],
   "source": [
    "sent = pd.read_csv(r\"C:\\Users\\Avena Cheng\\Desktop\\Liberating Archives\\supreme-court-transcripts\\sentiment_compound.csv\")\n",
    "sent = sent[['Case','Case_ID','Name','Sentiment Score']].rename({'Sentiment Score':'Score'},axis=1)\n",
    "sent.head(1)"
   ]
  },
  {
   "cell_type": "code",
   "execution_count": 1609,
   "metadata": {},
   "outputs": [],
   "source": [
    "everyone_cols = [i.lower() for i in everyone_speech.columns]\n",
    "everyone_speech.columns = everyone_cols\n",
    "\n",
    "sent_cols = [i.lower() for i in sent.columns]\n",
    "sent.columns = sent_cols"
   ]
  },
  {
   "cell_type": "code",
   "execution_count": 1610,
   "metadata": {},
   "outputs": [
    {
     "data": {
      "text/html": [
       "<div>\n",
       "<style scoped>\n",
       "    .dataframe tbody tr th:only-of-type {\n",
       "        vertical-align: middle;\n",
       "    }\n",
       "\n",
       "    .dataframe tbody tr th {\n",
       "        vertical-align: top;\n",
       "    }\n",
       "\n",
       "    .dataframe thead th {\n",
       "        text-align: right;\n",
       "    }\n",
       "</style>\n",
       "<table border=\"1\" class=\"dataframe\">\n",
       "  <thead>\n",
       "    <tr style=\"text-align: right;\">\n",
       "      <th></th>\n",
       "      <th>case</th>\n",
       "      <th>case_id</th>\n",
       "      <th>name</th>\n",
       "      <th>text</th>\n",
       "    </tr>\n",
       "  </thead>\n",
       "  <tbody>\n",
       "    <tr>\n",
       "      <th>0</th>\n",
       "      <td>14 Penn Plaza LLC v. Pyett</td>\n",
       "      <td>1</td>\n",
       "      <td>PAUL SALVATORE</td>\n",
       "      <td>Thank you, Mr. Chief Justice, and may it plea...</td>\n",
       "    </tr>\n",
       "    <tr>\n",
       "      <th>1</th>\n",
       "      <td>14 Penn Plaza LLC v. Pyett</td>\n",
       "      <td>1</td>\n",
       "      <td>DAVID C. FREDERICK</td>\n",
       "      <td>Thank you, Mr. Chief Justice, and may it plea...</td>\n",
       "    </tr>\n",
       "    <tr>\n",
       "      <th>2</th>\n",
       "      <td>14 Penn Plaza LLC v. Pyett</td>\n",
       "      <td>1</td>\n",
       "      <td>CURTIS E. GANNON</td>\n",
       "      <td>Mr. Chief Justice, and may it please the Cour...</td>\n",
       "    </tr>\n",
       "    <tr>\n",
       "      <th>3</th>\n",
       "      <td>Abbott v. Perez</td>\n",
       "      <td>2</td>\n",
       "      <td>SCOTT A. KELLER</td>\n",
       "      <td>Thank you, Mr. Chief Justice, and may it plea...</td>\n",
       "    </tr>\n",
       "    <tr>\n",
       "      <th>4</th>\n",
       "      <td>Abbott v. Perez</td>\n",
       "      <td>2</td>\n",
       "      <td>EDWIN S. KNEEDLER</td>\n",
       "      <td>Mr. Chief Justice, and may it please the Cour...</td>\n",
       "    </tr>\n",
       "  </tbody>\n",
       "</table>\n",
       "</div>"
      ],
      "text/plain": [
       "                         case  case_id                name  \\\n",
       "0  14 Penn Plaza LLC v. Pyett        1      PAUL SALVATORE   \n",
       "1  14 Penn Plaza LLC v. Pyett        1  DAVID C. FREDERICK   \n",
       "2  14 Penn Plaza LLC v. Pyett        1    CURTIS E. GANNON   \n",
       "3             Abbott v. Perez        2     SCOTT A. KELLER   \n",
       "4             Abbott v. Perez        2   EDWIN S. KNEEDLER   \n",
       "\n",
       "                                                text  \n",
       "0   Thank you, Mr. Chief Justice, and may it plea...  \n",
       "1   Thank you, Mr. Chief Justice, and may it plea...  \n",
       "2   Mr. Chief Justice, and may it please the Cour...  \n",
       "3   Thank you, Mr. Chief Justice, and may it plea...  \n",
       "4   Mr. Chief Justice, and may it please the Cour...  "
      ]
     },
     "execution_count": 1610,
     "metadata": {},
     "output_type": "execute_result"
    }
   ],
   "source": [
    "everyone_speech.head()"
   ]
  },
  {
   "cell_type": "code",
   "execution_count": 1612,
   "metadata": {},
   "outputs": [
    {
     "data": {
      "text/html": [
       "<div>\n",
       "<style scoped>\n",
       "    .dataframe tbody tr th:only-of-type {\n",
       "        vertical-align: middle;\n",
       "    }\n",
       "\n",
       "    .dataframe tbody tr th {\n",
       "        vertical-align: top;\n",
       "    }\n",
       "\n",
       "    .dataframe thead th {\n",
       "        text-align: right;\n",
       "    }\n",
       "</style>\n",
       "<table border=\"1\" class=\"dataframe\">\n",
       "  <thead>\n",
       "    <tr style=\"text-align: right;\">\n",
       "      <th></th>\n",
       "      <th>case</th>\n",
       "      <th>case_id</th>\n",
       "      <th>name</th>\n",
       "      <th>text</th>\n",
       "      <th>score</th>\n",
       "    </tr>\n",
       "  </thead>\n",
       "  <tbody>\n",
       "    <tr>\n",
       "      <th>0</th>\n",
       "      <td>14 Penn Plaza LLC v. Pyett</td>\n",
       "      <td>1</td>\n",
       "      <td>PAUL SALVATORE</td>\n",
       "      <td>Thank you, Mr. Chief Justice, and may it plea...</td>\n",
       "      <td>0.9998</td>\n",
       "    </tr>\n",
       "    <tr>\n",
       "      <th>1</th>\n",
       "      <td>14 Penn Plaza LLC v. Pyett</td>\n",
       "      <td>1</td>\n",
       "      <td>DAVID C. FREDERICK</td>\n",
       "      <td>Thank you, Mr. Chief Justice, and may it plea...</td>\n",
       "      <td>0.9996</td>\n",
       "    </tr>\n",
       "    <tr>\n",
       "      <th>2</th>\n",
       "      <td>14 Penn Plaza LLC v. Pyett</td>\n",
       "      <td>1</td>\n",
       "      <td>CURTIS E. GANNON</td>\n",
       "      <td>Mr. Chief Justice, and may it please the Cour...</td>\n",
       "      <td>0.9981</td>\n",
       "    </tr>\n",
       "    <tr>\n",
       "      <th>3</th>\n",
       "      <td>Abbott v. Perez</td>\n",
       "      <td>2</td>\n",
       "      <td>SCOTT A. KELLER</td>\n",
       "      <td>Thank you, Mr. Chief Justice, and may it plea...</td>\n",
       "      <td>0.9994</td>\n",
       "    </tr>\n",
       "    <tr>\n",
       "      <th>4</th>\n",
       "      <td>Abbott v. Perez</td>\n",
       "      <td>2</td>\n",
       "      <td>EDWIN S. KNEEDLER</td>\n",
       "      <td>Mr. Chief Justice, and may it please the Cour...</td>\n",
       "      <td>0.9990</td>\n",
       "    </tr>\n",
       "  </tbody>\n",
       "</table>\n",
       "</div>"
      ],
      "text/plain": [
       "                         case  case_id                name  \\\n",
       "0  14 Penn Plaza LLC v. Pyett        1      PAUL SALVATORE   \n",
       "1  14 Penn Plaza LLC v. Pyett        1  DAVID C. FREDERICK   \n",
       "2  14 Penn Plaza LLC v. Pyett        1    CURTIS E. GANNON   \n",
       "3             Abbott v. Perez        2     SCOTT A. KELLER   \n",
       "4             Abbott v. Perez        2   EDWIN S. KNEEDLER   \n",
       "\n",
       "                                                text   score  \n",
       "0   Thank you, Mr. Chief Justice, and may it plea...  0.9998  \n",
       "1   Thank you, Mr. Chief Justice, and may it plea...  0.9996  \n",
       "2   Mr. Chief Justice, and may it please the Cour...  0.9981  \n",
       "3   Thank you, Mr. Chief Justice, and may it plea...  0.9994  \n",
       "4   Mr. Chief Justice, and may it please the Cour...  0.9990  "
      ]
     },
     "execution_count": 1612,
     "metadata": {},
     "output_type": "execute_result"
    }
   ],
   "source": [
    "updated_speech = pd.merge(sent,everyone_speech)[['case','case_id','name','text','score']]\n",
    "updated_speech.head()"
   ]
  },
  {
   "cell_type": "markdown",
   "metadata": {},
   "source": [
    "## Keywords\n",
    "\n",
    "Credits to Pratibha"
   ]
  },
  {
   "cell_type": "code",
   "execution_count": 1178,
   "metadata": {},
   "outputs": [],
   "source": [
    "keywords = pd.read_csv('keywords.csv').drop('Unnamed: 0', axis=1)"
   ]
  },
  {
   "cell_type": "code",
   "execution_count": 1179,
   "metadata": {
    "scrolled": true
   },
   "outputs": [
    {
     "data": {
      "text/html": [
       "<div>\n",
       "<style scoped>\n",
       "    .dataframe tbody tr th:only-of-type {\n",
       "        vertical-align: middle;\n",
       "    }\n",
       "\n",
       "    .dataframe tbody tr th {\n",
       "        vertical-align: top;\n",
       "    }\n",
       "\n",
       "    .dataframe thead th {\n",
       "        text-align: right;\n",
       "    }\n",
       "</style>\n",
       "<table border=\"1\" class=\"dataframe\">\n",
       "  <thead>\n",
       "    <tr style=\"text-align: right;\">\n",
       "      <th></th>\n",
       "      <th>Case</th>\n",
       "      <th>words</th>\n",
       "      <th>frequencies</th>\n",
       "      <th>Case_ID</th>\n",
       "    </tr>\n",
       "  </thead>\n",
       "  <tbody>\n",
       "    <tr>\n",
       "      <th>0</th>\n",
       "      <td>14 Penn Plaza LLC v. Pyett</td>\n",
       "      <td>justice</td>\n",
       "      <td>165</td>\n",
       "      <td>1</td>\n",
       "    </tr>\n",
       "    <tr>\n",
       "      <th>1</th>\n",
       "      <td>14 Penn Plaza LLC v. Pyett</td>\n",
       "      <td>union</td>\n",
       "      <td>125</td>\n",
       "      <td>1</td>\n",
       "    </tr>\n",
       "    <tr>\n",
       "      <th>2</th>\n",
       "      <td>14 Penn Plaza LLC v. Pyett</td>\n",
       "      <td>subject</td>\n",
       "      <td>80</td>\n",
       "      <td>1</td>\n",
       "    </tr>\n",
       "    <tr>\n",
       "      <th>3</th>\n",
       "      <td>14 Penn Plaza LLC v. Pyett</td>\n",
       "      <td>would</td>\n",
       "      <td>74</td>\n",
       "      <td>1</td>\n",
       "    </tr>\n",
       "    <tr>\n",
       "      <th>4</th>\n",
       "      <td>14 Penn Plaza LLC v. Pyett</td>\n",
       "      <td>company</td>\n",
       "      <td>71</td>\n",
       "      <td>1</td>\n",
       "    </tr>\n",
       "  </tbody>\n",
       "</table>\n",
       "</div>"
      ],
      "text/plain": [
       "                         Case    words  frequencies  Case_ID\n",
       "0  14 Penn Plaza LLC v. Pyett  justice          165        1\n",
       "1  14 Penn Plaza LLC v. Pyett    union          125        1\n",
       "2  14 Penn Plaza LLC v. Pyett  subject           80        1\n",
       "3  14 Penn Plaza LLC v. Pyett    would           74        1\n",
       "4  14 Penn Plaza LLC v. Pyett  company           71        1"
      ]
     },
     "execution_count": 1179,
     "metadata": {},
     "output_type": "execute_result"
    }
   ],
   "source": [
    "keywords.head()"
   ]
  },
  {
   "cell_type": "code",
   "execution_count": 1219,
   "metadata": {},
   "outputs": [],
   "source": [
    "from nltk.tag import pos_tag"
   ]
  },
  {
   "cell_type": "code",
   "execution_count": 1222,
   "metadata": {},
   "outputs": [],
   "source": [
    "token_tag = pos_tag(keywords['words'])"
   ]
  },
  {
   "cell_type": "code",
   "execution_count": 1227,
   "metadata": {},
   "outputs": [
    {
     "data": {
      "text/plain": [
       "65100"
      ]
     },
     "execution_count": 1227,
     "metadata": {},
     "output_type": "execute_result"
    }
   ],
   "source": [
    "len(token_tag)"
   ]
  },
  {
   "cell_type": "code",
   "execution_count": 1228,
   "metadata": {},
   "outputs": [],
   "source": [
    "keywords['tag'] = [token_tag[i][1] for i in range(65100)]"
   ]
  },
  {
   "cell_type": "code",
   "execution_count": 1226,
   "metadata": {},
   "outputs": [
    {
     "data": {
      "text/plain": [
       "'NN'"
      ]
     },
     "execution_count": 1226,
     "metadata": {},
     "output_type": "execute_result"
    }
   ],
   "source": [
    "token_tag[0][1]"
   ]
  },
  {
   "cell_type": "code",
   "execution_count": 1388,
   "metadata": {},
   "outputs": [],
   "source": [
    "k = keywords.loc[keywords['tag'] != 'VBD']\n",
    "k = k.loc[k['tag'] != 'VBG']\n",
    "k = k.loc[k['tag'] != 'RB']\n",
    "k = k.loc[k['tag'] != 'VBP']\n",
    "k = k.loc[k['tag'] != 'IN']\n",
    "k = k.loc[k['tag'] != 'CD']\n",
    "k = k.loc[k['tag'] != 'DT']\n",
    "k = k.loc[k['tag'] != 'CC']\n",
    "k = k.loc[k['tag'] != 'MD'] #most common\n",
    "k = k.loc[k['tag'] != 'VBN']\n",
    "k = k.loc[k['words'] != 'says']"
   ]
  },
  {
   "cell_type": "code",
   "execution_count": 1389,
   "metadata": {},
   "outputs": [],
   "source": [
    "drops = k.groupby('words').count().sort_values('frequencies',ascending = False)[:50].index\n",
    "for i in drops:\n",
    "    k = k.loc[k['words'] != i]"
   ]
  },
  {
   "cell_type": "code",
   "execution_count": 1390,
   "metadata": {},
   "outputs": [
    {
     "data": {
      "text/plain": [
       "25222"
      ]
     },
     "execution_count": 1390,
     "metadata": {},
     "output_type": "execute_result"
    }
   ],
   "source": [
    "len(k)"
   ]
  },
  {
   "cell_type": "code",
   "execution_count": 1391,
   "metadata": {
    "scrolled": true
   },
   "outputs": [],
   "source": [
    "k = k.drop('tag',axis=1)"
   ]
  },
  {
   "cell_type": "code",
   "execution_count": 1393,
   "metadata": {},
   "outputs": [],
   "source": [
    "k_cols = [i.lower() for i in k.columns]\n",
    "k.columns = k_cols"
   ]
  },
  {
   "cell_type": "code",
   "execution_count": 1588,
   "metadata": {},
   "outputs": [],
   "source": [
    "k = k.rename({'case':'title'},axis=1)\n",
    "#k.head()"
   ]
  },
  {
   "cell_type": "code",
   "execution_count": null,
   "metadata": {},
   "outputs": [],
   "source": [
    "titles = case_table.Case.values\n",
    "top5 = []\n",
    "for i in titles:\n",
    "    words = k.loc[k['title']==i][:5]['words'].values\n",
    "    words = ', '.join(words)\n",
    "    top5 += [words]\n",
    "k5 = pd.DataFrame({'case_id':range(1,1303),'top5':top5})\n",
    "top5_keywords = pd.merge(case_table,k5)"
   ]
  },
  {
   "cell_type": "code",
   "execution_count": 1589,
   "metadata": {
    "scrolled": true
   },
   "outputs": [],
   "source": [
    "top5_keywords.to_csv('keywords.csv')"
   ]
  },
  {
   "cell_type": "code",
   "execution_count": 1369,
   "metadata": {},
   "outputs": [],
   "source": [
    "#k.groupby('words').count().sort_values('frequencies',ascending = False)[51:]"
   ]
  },
  {
   "cell_type": "code",
   "execution_count": 1078,
   "metadata": {},
   "outputs": [],
   "source": [
    "#bills_db = bills_db.rename({'Title':'Case','Bills Mentioned':'Bills'},axis=1).drop('Case_No',axis=1).drop('Date',axis=1)"
   ]
  },
  {
   "cell_type": "markdown",
   "metadata": {},
   "source": [
    "## Connecting speeches & keywords to database\n"
   ]
  },
  {
   "cell_type": "code",
   "execution_count": 1613,
   "metadata": {},
   "outputs": [],
   "source": [
    "con = sqlite3.connect(\"database.db\")\n",
    "\n",
    "updated_speech.to_sql(\"speech\", con, if_exists=\"replace\")\n",
    "top5_keywords.to_sql(\"keywords\",con,if_exists=\"replace\")"
   ]
  },
  {
   "cell_type": "code",
   "execution_count": 1041,
   "metadata": {},
   "outputs": [],
   "source": [
    "# 15 minutes to run\n",
    "\n",
    "#from nltk.corpus import stopwords\n",
    "#stop_words = set(stopwords.words('english'))\n",
    "#keywords = pd.DataFrame(columns=['Case', 'words', 'frequencies'])\n",
    "\n",
    "#for i in range(1302):\n",
    " #   words = nltk.word_tokenize(cleaned[i])\n",
    " #   # Remove single-character tokens (mostly punctuation)\n",
    " #   # Remove numbers\n",
    " #   words = [word for word in words if not word.isnumeric()]\n",
    "\n",
    "    # Lowercase all words (default_stopwords are lowercase too)\n",
    " #   words = [word.lower() for word in words]\n",
    "\n",
    "    # Remove stopwords\n",
    " #   words = [word for word in words if word not in stop_words]\n",
    "\n",
    "    #remove punctuation\n",
    " #   words = [re.sub(r'[^\\w\\s]','', word) for word in words]\n",
    "\n",
    " #   words = [word for word in words if len(word) > 2]\n",
    "\n",
    " #   # Calculate frequency distribution\n",
    " #   fdist = nltk.FreqDist(words)\n",
    " #   for word, frequency in fdist.most_common(50):\n",
    " #       keywords = keywords.append({'Case': case_table['Case'][i], 'words': word, 'frequencies': frequency}, ignore_index=True)"
   ]
  },
  {
   "cell_type": "code",
   "execution_count": 1056,
   "metadata": {
    "scrolled": true
   },
   "outputs": [],
   "source": [
    "#keywords = pd.merge(keywords,case_table)\n",
    "#keywords.to_csv('keywords.csv')"
   ]
  },
  {
   "cell_type": "code",
   "execution_count": 1441,
   "metadata": {},
   "outputs": [],
   "source": [
    "b = pd.read_csv('act_df.csv').drop('Unnamed: 0',axis=1)"
   ]
  },
  {
   "cell_type": "code",
   "execution_count": null,
   "metadata": {},
   "outputs": [],
   "source": []
  },
  {
   "cell_type": "code",
   "execution_count": 1445,
   "metadata": {},
   "outputs": [],
   "source": [
    "bills = pd.merge(b,case_table)"
   ]
  },
  {
   "cell_type": "code",
   "execution_count": 1447,
   "metadata": {
    "scrolled": true
   },
   "outputs": [
    {
     "name": "stderr",
     "output_type": "stream",
     "text": [
      "C:\\Anaconda3\\lib\\site-packages\\ipykernel_launcher.py:3: SettingWithCopyWarning: \n",
      "A value is trying to be set on a copy of a slice from a DataFrame\n",
      "\n",
      "See the caveats in the documentation: http://pandas.pydata.org/pandas-docs/stable/indexing.html#indexing-view-versus-copy\n",
      "  This is separate from the ipykernel package so we can avoid doing imports until\n"
     ]
    }
   ],
   "source": [
    "for i in range(len(bills)):\n",
    "    if 'The' in bills['Act'][i]:\n",
    "        bills['Act'][i] = bills['Act'][i].strip('The')"
   ]
  },
  {
   "cell_type": "code",
   "execution_count": 1448,
   "metadata": {},
   "outputs": [
    {
     "name": "stderr",
     "output_type": "stream",
     "text": [
      "C:\\Anaconda3\\lib\\site-packages\\ipykernel_launcher.py:5: SettingWithCopyWarning: \n",
      "A value is trying to be set on a copy of a slice from a DataFrame\n",
      "\n",
      "See the caveats in the documentation: http://pandas.pydata.org/pandas-docs/stable/indexing.html#indexing-view-versus-copy\n",
      "  \"\"\"\n",
      "C:\\Anaconda3\\lib\\site-packages\\ipykernel_launcher.py:7: SettingWithCopyWarning: \n",
      "A value is trying to be set on a copy of a slice from a DataFrame\n",
      "\n",
      "See the caveats in the documentation: http://pandas.pydata.org/pandas-docs/stable/indexing.html#indexing-view-versus-copy\n",
      "  import sys\n"
     ]
    }
   ],
   "source": [
    "for i in range(len(bills)):\n",
    "    error = re.findall('[A-Z][a-z]+ Reporting Company Official ',bills['Act'][i])\n",
    "    error1 = re.findall('[A-Z][a-z]+ Reporting Corporation Official ',bills['Act'][i])\n",
    "    if len(error) > 0:\n",
    "        bills['Act'][i] = re.sub(error[0],'',bills['Act'][i])\n",
    "    if len(error1) > 0:\n",
    "        bills['Act'][i] = re.sub(error1[0],'',bills['Act'][i])"
   ]
  },
  {
   "cell_type": "code",
   "execution_count": 1449,
   "metadata": {},
   "outputs": [],
   "source": [
    "for i in range(len(bills)):\n",
    "    if bills['Act'][i] == 'Act':\n",
    "        bills = bills.drop(i)"
   ]
  },
  {
   "cell_type": "code",
   "execution_count": 1450,
   "metadata": {},
   "outputs": [],
   "source": [
    "bills = bills.reset_index()"
   ]
  },
  {
   "cell_type": "code",
   "execution_count": 1452,
   "metadata": {},
   "outputs": [
    {
     "data": {
      "text/html": [
       "<div>\n",
       "<style scoped>\n",
       "    .dataframe tbody tr th:only-of-type {\n",
       "        vertical-align: middle;\n",
       "    }\n",
       "\n",
       "    .dataframe tbody tr th {\n",
       "        vertical-align: top;\n",
       "    }\n",
       "\n",
       "    .dataframe thead th {\n",
       "        text-align: right;\n",
       "    }\n",
       "</style>\n",
       "<table border=\"1\" class=\"dataframe\">\n",
       "  <thead>\n",
       "    <tr style=\"text-align: right;\">\n",
       "      <th></th>\n",
       "      <th>index</th>\n",
       "      <th>Act</th>\n",
       "      <th>Case</th>\n",
       "      <th>Case_ID</th>\n",
       "    </tr>\n",
       "  </thead>\n",
       "  <tbody>\n",
       "    <tr>\n",
       "      <th>0</th>\n",
       "      <td>1</td>\n",
       "      <td>Help America Vote Act</td>\n",
       "      <td>Abbott v. Perez</td>\n",
       "      <td>2</td>\n",
       "    </tr>\n",
       "    <tr>\n",
       "      <th>1</th>\n",
       "      <td>2</td>\n",
       "      <td>Voting Rights Act</td>\n",
       "      <td>Abbott v. Perez</td>\n",
       "      <td>2</td>\n",
       "    </tr>\n",
       "    <tr>\n",
       "      <th>2</th>\n",
       "      <td>3</td>\n",
       "      <td>Lanham Act</td>\n",
       "      <td>Abramski v. United States</td>\n",
       "      <td>6</td>\n",
       "    </tr>\n",
       "    <tr>\n",
       "      <th>3</th>\n",
       "      <td>4</td>\n",
       "      <td>Birth Abortion Act</td>\n",
       "      <td>Abuelhawa v. United States</td>\n",
       "      <td>7</td>\n",
       "    </tr>\n",
       "    <tr>\n",
       "      <th>4</th>\n",
       "      <td>5</td>\n",
       "      <td>Private Securities Litigation Reform Act</td>\n",
       "      <td>Adarand Constructors, Inc. v. Mineta</td>\n",
       "      <td>9</td>\n",
       "    </tr>\n",
       "  </tbody>\n",
       "</table>\n",
       "</div>"
      ],
      "text/plain": [
       "   index                                       Act  \\\n",
       "0      1                     Help America Vote Act   \n",
       "1      2                         Voting Rights Act   \n",
       "2      3                                Lanham Act   \n",
       "3      4                        Birth Abortion Act   \n",
       "4      5  Private Securities Litigation Reform Act   \n",
       "\n",
       "                                   Case  Case_ID  \n",
       "0                       Abbott v. Perez        2  \n",
       "1                       Abbott v. Perez        2  \n",
       "2             Abramski v. United States        6  \n",
       "3            Abuelhawa v. United States        7  \n",
       "4  Adarand Constructors, Inc. v. Mineta        9  "
      ]
     },
     "execution_count": 1452,
     "metadata": {},
     "output_type": "execute_result"
    }
   ],
   "source": [
    "bills.head()"
   ]
  },
  {
   "cell_type": "code",
   "execution_count": 1433,
   "metadata": {},
   "outputs": [
    {
     "data": {
      "text/plain": [
       "18.729796933278077"
      ]
     },
     "execution_count": 1433,
     "metadata": {},
     "output_type": "execute_result"
    }
   ],
   "source": [
    "import numpy as np\n",
    "count = []\n",
    "for i in range(len(bills)):\n",
    "    bill = bills['Act'][i]\n",
    "    count += [len(bill)]\n",
    "np.mean(count)"
   ]
  },
  {
   "cell_type": "code",
   "execution_count": 1434,
   "metadata": {
    "scrolled": true
   },
   "outputs": [
    {
     "data": {
      "text/plain": [
       "[' Endangered Species Act']"
      ]
     },
     "execution_count": 1434,
     "metadata": {},
     "output_type": "execute_result"
    }
   ],
   "source": [
    "re.findall(\"\\s[\\s\\S]+\",bills['Act'][39])"
   ]
  },
  {
   "cell_type": "code",
   "execution_count": 1435,
   "metadata": {},
   "outputs": [
    {
     "data": {
      "text/plain": [
       "'Endangered Species Act'"
      ]
     },
     "execution_count": 1435,
     "metadata": {},
     "output_type": "execute_result"
    }
   ],
   "source": [
    "bills['Act'][39].strip(' ')"
   ]
  },
  {
   "cell_type": "code",
   "execution_count": 1453,
   "metadata": {
    "scrolled": false
   },
   "outputs": [
    {
     "name": "stderr",
     "output_type": "stream",
     "text": [
      "C:\\Anaconda3\\lib\\site-packages\\ipykernel_launcher.py:4: SettingWithCopyWarning: \n",
      "A value is trying to be set on a copy of a slice from a DataFrame\n",
      "\n",
      "See the caveats in the documentation: http://pandas.pydata.org/pandas-docs/stable/indexing.html#indexing-view-versus-copy\n",
      "  after removing the cwd from sys.path.\n"
     ]
    }
   ],
   "source": [
    "for i in range(len(bills)):\n",
    "    act = re.findall(\"\\s[\\s\\S]+\",bills['Act'][i])\n",
    "    if len(act) > 0:\n",
    "        bills['Act'][i] = bills['Act'][i].strip(' ')\n",
    "        "
   ]
  },
  {
   "cell_type": "code",
   "execution_count": null,
   "metadata": {},
   "outputs": [],
   "source": [
    "#set(bills['Act'])"
   ]
  },
  {
   "cell_type": "code",
   "execution_count": 1455,
   "metadata": {
    "scrolled": true
   },
   "outputs": [],
   "source": [
    "bills = bills.drop('index',axis=1)"
   ]
  },
  {
   "cell_type": "code",
   "execution_count": 1457,
   "metadata": {},
   "outputs": [],
   "source": [
    "cols_b = [i.lower() for i in bills.columns]\n",
    "bills.columns = cols_b"
   ]
  },
  {
   "cell_type": "code",
   "execution_count": 1458,
   "metadata": {},
   "outputs": [
    {
     "data": {
      "text/html": [
       "<div>\n",
       "<style scoped>\n",
       "    .dataframe tbody tr th:only-of-type {\n",
       "        vertical-align: middle;\n",
       "    }\n",
       "\n",
       "    .dataframe tbody tr th {\n",
       "        vertical-align: top;\n",
       "    }\n",
       "\n",
       "    .dataframe thead th {\n",
       "        text-align: right;\n",
       "    }\n",
       "</style>\n",
       "<table border=\"1\" class=\"dataframe\">\n",
       "  <thead>\n",
       "    <tr style=\"text-align: right;\">\n",
       "      <th></th>\n",
       "      <th>act</th>\n",
       "      <th>case</th>\n",
       "      <th>case_id</th>\n",
       "    </tr>\n",
       "  </thead>\n",
       "  <tbody>\n",
       "    <tr>\n",
       "      <th>0</th>\n",
       "      <td>Help America Vote Act</td>\n",
       "      <td>Abbott v. Perez</td>\n",
       "      <td>2</td>\n",
       "    </tr>\n",
       "    <tr>\n",
       "      <th>1</th>\n",
       "      <td>Voting Rights Act</td>\n",
       "      <td>Abbott v. Perez</td>\n",
       "      <td>2</td>\n",
       "    </tr>\n",
       "    <tr>\n",
       "      <th>2</th>\n",
       "      <td>Lanham Act</td>\n",
       "      <td>Abramski v. United States</td>\n",
       "      <td>6</td>\n",
       "    </tr>\n",
       "    <tr>\n",
       "      <th>3</th>\n",
       "      <td>Birth Abortion Act</td>\n",
       "      <td>Abuelhawa v. United States</td>\n",
       "      <td>7</td>\n",
       "    </tr>\n",
       "    <tr>\n",
       "      <th>4</th>\n",
       "      <td>Private Securities Litigation Reform Act</td>\n",
       "      <td>Adarand Constructors, Inc. v. Mineta</td>\n",
       "      <td>9</td>\n",
       "    </tr>\n",
       "  </tbody>\n",
       "</table>\n",
       "</div>"
      ],
      "text/plain": [
       "                                        act  \\\n",
       "0                     Help America Vote Act   \n",
       "1                         Voting Rights Act   \n",
       "2                                Lanham Act   \n",
       "3                        Birth Abortion Act   \n",
       "4  Private Securities Litigation Reform Act   \n",
       "\n",
       "                                   case  case_id  \n",
       "0                       Abbott v. Perez        2  \n",
       "1                       Abbott v. Perez        2  \n",
       "2             Abramski v. United States        6  \n",
       "3            Abuelhawa v. United States        7  \n",
       "4  Adarand Constructors, Inc. v. Mineta        9  "
      ]
     },
     "execution_count": 1458,
     "metadata": {},
     "output_type": "execute_result"
    }
   ],
   "source": [
    "bills.head()"
   ]
  },
  {
   "cell_type": "markdown",
   "metadata": {},
   "source": [
    "## Connecting bills to db"
   ]
  },
  {
   "cell_type": "code",
   "execution_count": 1518,
   "metadata": {},
   "outputs": [],
   "source": [
    "fixed.to_sql(\"bills\",con,if_exists=\"replace\")"
   ]
  },
  {
   "cell_type": "code",
   "execution_count": 1519,
   "metadata": {},
   "outputs": [],
   "source": [
    "fixed.to_csv('bills.csv')"
   ]
  },
  {
   "cell_type": "code",
   "execution_count": 1460,
   "metadata": {},
   "outputs": [],
   "source": [
    "temp = bills.drop('case',axis = 1)"
   ]
  },
  {
   "cell_type": "code",
   "execution_count": 1503,
   "metadata": {},
   "outputs": [],
   "source": [
    "ind = set(bills['case_id'].values)\n",
    "for i in range(1,1303):\n",
    "    if i not in ind:\n",
    "        df = pd.DataFrame({'act':'NA','case_id':[i]})\n",
    "        temp = temp.append(df)"
   ]
  },
  {
   "cell_type": "code",
   "execution_count": 1507,
   "metadata": {},
   "outputs": [
    {
     "data": {
      "text/plain": [
       "813"
      ]
     },
     "execution_count": 1507,
     "metadata": {},
     "output_type": "execute_result"
    }
   ],
   "source": [
    "len(pd.merge(bills,temp).groupby('case_id').count())"
   ]
  },
  {
   "cell_type": "code",
   "execution_count": 1510,
   "metadata": {},
   "outputs": [],
   "source": [
    "c = pd.read_csv(r\"C:\\Users\\Avena Cheng\\Desktop\\Liberating Archives\\supreme-court-transcripts\\cases.csv\")"
   ]
  },
  {
   "cell_type": "code",
   "execution_count": 1505,
   "metadata": {},
   "outputs": [
    {
     "data": {
      "text/plain": [
       "1302"
      ]
     },
     "execution_count": 1505,
     "metadata": {},
     "output_type": "execute_result"
    }
   ],
   "source": [
    "len(temp.groupby('case_id').count())"
   ]
  },
  {
   "cell_type": "code",
   "execution_count": 1516,
   "metadata": {},
   "outputs": [],
   "source": [
    "fixed = pd.merge(c,temp).drop('Unnamed: 0',axis = 1)\n",
    "#fixed = fixed[['case','case_id','act']]\n",
    "fixed = fixed[['title','case_id','act']]"
   ]
  },
  {
   "cell_type": "code",
   "execution_count": 1517,
   "metadata": {},
   "outputs": [
    {
     "data": {
      "text/html": [
       "<div>\n",
       "<style scoped>\n",
       "    .dataframe tbody tr th:only-of-type {\n",
       "        vertical-align: middle;\n",
       "    }\n",
       "\n",
       "    .dataframe tbody tr th {\n",
       "        vertical-align: top;\n",
       "    }\n",
       "\n",
       "    .dataframe thead th {\n",
       "        text-align: right;\n",
       "    }\n",
       "</style>\n",
       "<table border=\"1\" class=\"dataframe\">\n",
       "  <thead>\n",
       "    <tr style=\"text-align: right;\">\n",
       "      <th></th>\n",
       "      <th>title</th>\n",
       "      <th>case_id</th>\n",
       "      <th>act</th>\n",
       "    </tr>\n",
       "  </thead>\n",
       "  <tbody>\n",
       "    <tr>\n",
       "      <th>0</th>\n",
       "      <td>14 Penn Plaza LLC v. Pyett</td>\n",
       "      <td>1</td>\n",
       "      <td>NA</td>\n",
       "    </tr>\n",
       "    <tr>\n",
       "      <th>1</th>\n",
       "      <td>14 Penn Plaza LLC v. Pyett</td>\n",
       "      <td>1</td>\n",
       "      <td>NA</td>\n",
       "    </tr>\n",
       "    <tr>\n",
       "      <th>2</th>\n",
       "      <td>Abbott v. Perez</td>\n",
       "      <td>2</td>\n",
       "      <td>Help America Vote Act</td>\n",
       "    </tr>\n",
       "    <tr>\n",
       "      <th>3</th>\n",
       "      <td>Abbott v. Perez</td>\n",
       "      <td>2</td>\n",
       "      <td>Voting Rights Act</td>\n",
       "    </tr>\n",
       "    <tr>\n",
       "      <th>4</th>\n",
       "      <td>Abbott v. United States</td>\n",
       "      <td>3</td>\n",
       "      <td>NA</td>\n",
       "    </tr>\n",
       "    <tr>\n",
       "      <th>5</th>\n",
       "      <td>Abbott v. United States</td>\n",
       "      <td>3</td>\n",
       "      <td>NA</td>\n",
       "    </tr>\n",
       "    <tr>\n",
       "      <th>6</th>\n",
       "      <td>Abdul-Kabir v. Quarterman</td>\n",
       "      <td>4</td>\n",
       "      <td>NA</td>\n",
       "    </tr>\n",
       "    <tr>\n",
       "      <th>7</th>\n",
       "      <td>Abdul-Kabir v. Quarterman</td>\n",
       "      <td>4</td>\n",
       "      <td>NA</td>\n",
       "    </tr>\n",
       "    <tr>\n",
       "      <th>8</th>\n",
       "      <td>Abdur_Rahman v. Bell</td>\n",
       "      <td>5</td>\n",
       "      <td>NA</td>\n",
       "    </tr>\n",
       "    <tr>\n",
       "      <th>9</th>\n",
       "      <td>Abdur_Rahman v. Bell</td>\n",
       "      <td>5</td>\n",
       "      <td>NA</td>\n",
       "    </tr>\n",
       "    <tr>\n",
       "      <th>10</th>\n",
       "      <td>Abramski v. United States</td>\n",
       "      <td>6</td>\n",
       "      <td>Lanham Act</td>\n",
       "    </tr>\n",
       "    <tr>\n",
       "      <th>11</th>\n",
       "      <td>Abuelhawa v. United States</td>\n",
       "      <td>7</td>\n",
       "      <td>Birth Abortion Act</td>\n",
       "    </tr>\n",
       "    <tr>\n",
       "      <th>12</th>\n",
       "      <td>Adams v. Florida Power Corp.</td>\n",
       "      <td>8</td>\n",
       "      <td>NA</td>\n",
       "    </tr>\n",
       "    <tr>\n",
       "      <th>13</th>\n",
       "      <td>Adams v. Florida Power Corp.</td>\n",
       "      <td>8</td>\n",
       "      <td>NA</td>\n",
       "    </tr>\n",
       "    <tr>\n",
       "      <th>14</th>\n",
       "      <td>Adarand Constructors, Inc. v. Mineta</td>\n",
       "      <td>9</td>\n",
       "      <td>Private Securities Litigation Reform Act</td>\n",
       "    </tr>\n",
       "    <tr>\n",
       "      <th>15</th>\n",
       "      <td>Adarand Constructors, Inc. v. Mineta</td>\n",
       "      <td>9</td>\n",
       "      <td>Uniform Standards Act</td>\n",
       "    </tr>\n",
       "    <tr>\n",
       "      <th>16</th>\n",
       "      <td>Adoptive Couple v. Baby Girl</td>\n",
       "      <td>10</td>\n",
       "      <td>NA</td>\n",
       "    </tr>\n",
       "    <tr>\n",
       "      <th>17</th>\n",
       "      <td>Adoptive Couple v. Baby Girl</td>\n",
       "      <td>10</td>\n",
       "      <td>NA</td>\n",
       "    </tr>\n",
       "    <tr>\n",
       "      <th>18</th>\n",
       "      <td>Advocate Health Care Network v. Stapleton</td>\n",
       "      <td>11</td>\n",
       "      <td>Prison Litigation Reform Act</td>\n",
       "    </tr>\n",
       "    <tr>\n",
       "      <th>19</th>\n",
       "      <td>Advocate Health Care Network v. Stapleton</td>\n",
       "      <td>11</td>\n",
       "      <td>States Administrative Procedure Act</td>\n",
       "    </tr>\n",
       "    <tr>\n",
       "      <th>20</th>\n",
       "      <td>Aetna Health Inc. v. Davila</td>\n",
       "      <td>12</td>\n",
       "      <td>Alaska Statehood Act</td>\n",
       "    </tr>\n",
       "    <tr>\n",
       "      <th>21</th>\n",
       "      <td>Aetna Health Inc. v. Davila</td>\n",
       "      <td>12</td>\n",
       "      <td>Antiquities Act</td>\n",
       "    </tr>\n",
       "    <tr>\n",
       "      <th>22</th>\n",
       "      <td>Aetna Health Inc. v. Davila</td>\n",
       "      <td>12</td>\n",
       "      <td>Submerged Lands Act</td>\n",
       "    </tr>\n",
       "    <tr>\n",
       "      <th>23</th>\n",
       "      <td>Aetna Health Inc. v. Davila</td>\n",
       "      <td>12</td>\n",
       "      <td>Antiquities Act</td>\n",
       "    </tr>\n",
       "    <tr>\n",
       "      <th>24</th>\n",
       "      <td>Agency for Int_l Development v. Alliance for O...</td>\n",
       "      <td>13</td>\n",
       "      <td>NA</td>\n",
       "    </tr>\n",
       "    <tr>\n",
       "      <th>25</th>\n",
       "      <td>Agency for Int_l Development v. Alliance for O...</td>\n",
       "      <td>13</td>\n",
       "      <td>NA</td>\n",
       "    </tr>\n",
       "    <tr>\n",
       "      <th>26</th>\n",
       "      <td>Air Wisconsin Airlines Corp. v. Hoeper</td>\n",
       "      <td>14</td>\n",
       "      <td>NA</td>\n",
       "    </tr>\n",
       "    <tr>\n",
       "      <th>27</th>\n",
       "      <td>Air Wisconsin Airlines Corp. v. Hoeper</td>\n",
       "      <td>14</td>\n",
       "      <td>NA</td>\n",
       "    </tr>\n",
       "    <tr>\n",
       "      <th>28</th>\n",
       "      <td>Air _ Liquid Systems Corp. v. DeVries</td>\n",
       "      <td>15</td>\n",
       "      <td>Texas Civil Procedure Act</td>\n",
       "    </tr>\n",
       "    <tr>\n",
       "      <th>29</th>\n",
       "      <td>Alabama Dept. of Revenue v. CSX Transp., Inc.....</td>\n",
       "      <td>16</td>\n",
       "      <td>Armed Career Criminal Act</td>\n",
       "    </tr>\n",
       "    <tr>\n",
       "      <th>...</th>\n",
       "      <td>...</td>\n",
       "      <td>...</td>\n",
       "      <td>...</td>\n",
       "    </tr>\n",
       "    <tr>\n",
       "      <th>3361</th>\n",
       "      <td>Young v. United States</td>\n",
       "      <td>1293</td>\n",
       "      <td>Federal Power Act</td>\n",
       "    </tr>\n",
       "    <tr>\n",
       "      <th>3362</th>\n",
       "      <td>Ysursa v. Pocatello Ed. Assn.</td>\n",
       "      <td>1294</td>\n",
       "      <td>NA</td>\n",
       "    </tr>\n",
       "    <tr>\n",
       "      <th>3363</th>\n",
       "      <td>Ysursa v. Pocatello Ed. Assn.</td>\n",
       "      <td>1294</td>\n",
       "      <td>NA</td>\n",
       "    </tr>\n",
       "    <tr>\n",
       "      <th>3364</th>\n",
       "      <td>Zadvydas v. Underdown</td>\n",
       "      <td>1295</td>\n",
       "      <td>NA</td>\n",
       "    </tr>\n",
       "    <tr>\n",
       "      <th>3365</th>\n",
       "      <td>Zadvydas v. Underdown</td>\n",
       "      <td>1295</td>\n",
       "      <td>NA</td>\n",
       "    </tr>\n",
       "    <tr>\n",
       "      <th>3366</th>\n",
       "      <td>Zedner v. United States</td>\n",
       "      <td>1296</td>\n",
       "      <td>California Public Records Act</td>\n",
       "    </tr>\n",
       "    <tr>\n",
       "      <th>3367</th>\n",
       "      <td>Zedner v. United States</td>\n",
       "      <td>1296</td>\n",
       "      <td>Electronic Communications Privacy Act</td>\n",
       "    </tr>\n",
       "    <tr>\n",
       "      <th>3368</th>\n",
       "      <td>Zedner v. United States</td>\n",
       "      <td>1296</td>\n",
       "      <td>Final Review Act</td>\n",
       "    </tr>\n",
       "    <tr>\n",
       "      <th>3369</th>\n",
       "      <td>Zedner v. United States</td>\n",
       "      <td>1296</td>\n",
       "      <td>Storage Act</td>\n",
       "    </tr>\n",
       "    <tr>\n",
       "      <th>3370</th>\n",
       "      <td>Zedner v. United States</td>\n",
       "      <td>1296</td>\n",
       "      <td>Stored Communications Act</td>\n",
       "    </tr>\n",
       "    <tr>\n",
       "      <th>3371</th>\n",
       "      <td>Zedner v. United States</td>\n",
       "      <td>1296</td>\n",
       "      <td>Stored Communications Act</td>\n",
       "    </tr>\n",
       "    <tr>\n",
       "      <th>3372</th>\n",
       "      <td>Zelman v. Simmons-Harris</td>\n",
       "      <td>1297</td>\n",
       "      <td>NA</td>\n",
       "    </tr>\n",
       "    <tr>\n",
       "      <th>3373</th>\n",
       "      <td>Zelman v. Simmons-Harris</td>\n",
       "      <td>1297</td>\n",
       "      <td>NA</td>\n",
       "    </tr>\n",
       "    <tr>\n",
       "      <th>3374</th>\n",
       "      <td>Ziglar v. Abbasi</td>\n",
       "      <td>1298</td>\n",
       "      <td>Cosmetic Act</td>\n",
       "    </tr>\n",
       "    <tr>\n",
       "      <th>3375</th>\n",
       "      <td>Zivotofsky v. Clinton</td>\n",
       "      <td>1299</td>\n",
       "      <td>Civil Rights Act</td>\n",
       "    </tr>\n",
       "    <tr>\n",
       "      <th>3376</th>\n",
       "      <td>Zivotofsky v. Clinton</td>\n",
       "      <td>1299</td>\n",
       "      <td>Open Housing Act</td>\n",
       "    </tr>\n",
       "    <tr>\n",
       "      <th>3377</th>\n",
       "      <td>Zivotofsky v. Clinton</td>\n",
       "      <td>1299</td>\n",
       "      <td>Voting Rights Act</td>\n",
       "    </tr>\n",
       "    <tr>\n",
       "      <th>3378</th>\n",
       "      <td>Zivotofsky v. Kerry</td>\n",
       "      <td>1300</td>\n",
       "      <td>Communications Act</td>\n",
       "    </tr>\n",
       "    <tr>\n",
       "      <th>3379</th>\n",
       "      <td>Zivotofsky v. Kerry</td>\n",
       "      <td>1300</td>\n",
       "      <td>Telecommunications Act</td>\n",
       "    </tr>\n",
       "    <tr>\n",
       "      <th>3380</th>\n",
       "      <td>Zivotofsky v. Kerry</td>\n",
       "      <td>1300</td>\n",
       "      <td>Act</td>\n",
       "    </tr>\n",
       "    <tr>\n",
       "      <th>3381</th>\n",
       "      <td>Zubik v. Burwell</td>\n",
       "      <td>1301</td>\n",
       "      <td>Bankruptcy Act</td>\n",
       "    </tr>\n",
       "    <tr>\n",
       "      <th>3382</th>\n",
       "      <td>Zubik v. Burwell</td>\n",
       "      <td>1301</td>\n",
       "      <td>Civil Relief Act</td>\n",
       "    </tr>\n",
       "    <tr>\n",
       "      <th>3383</th>\n",
       "      <td>Zubik v. Burwell</td>\n",
       "      <td>1301</td>\n",
       "      <td>Injunction Act</td>\n",
       "    </tr>\n",
       "    <tr>\n",
       "      <th>3384</th>\n",
       "      <td>Zubik v. Burwell</td>\n",
       "      <td>1301</td>\n",
       "      <td>Relief Act</td>\n",
       "    </tr>\n",
       "    <tr>\n",
       "      <th>3385</th>\n",
       "      <td>Zubik v. Burwell</td>\n",
       "      <td>1301</td>\n",
       "      <td>South Carolina Tort Claims Act</td>\n",
       "    </tr>\n",
       "    <tr>\n",
       "      <th>3386</th>\n",
       "      <td>Zuni Public School Dist. v. Department of Educ...</td>\n",
       "      <td>1302</td>\n",
       "      <td>Air Act</td>\n",
       "    </tr>\n",
       "    <tr>\n",
       "      <th>3387</th>\n",
       "      <td>Zuni Public School Dist. v. Department of Educ...</td>\n",
       "      <td>1302</td>\n",
       "      <td>Clean Air Act</td>\n",
       "    </tr>\n",
       "    <tr>\n",
       "      <th>3388</th>\n",
       "      <td>Zuni Public School Dist. v. Department of Educ...</td>\n",
       "      <td>1302</td>\n",
       "      <td>Clean Water Act</td>\n",
       "    </tr>\n",
       "    <tr>\n",
       "      <th>3389</th>\n",
       "      <td>Zuni Public School Dist. v. Department of Educ...</td>\n",
       "      <td>1302</td>\n",
       "      <td>Resource Conservation Act</td>\n",
       "    </tr>\n",
       "    <tr>\n",
       "      <th>3390</th>\n",
       "      <td>Zuni Public School Dist. v. Department of Educ...</td>\n",
       "      <td>1302</td>\n",
       "      <td>Water Act</td>\n",
       "    </tr>\n",
       "  </tbody>\n",
       "</table>\n",
       "<p>3391 rows × 3 columns</p>\n",
       "</div>"
      ],
      "text/plain": [
       "                                                  title  case_id  \\\n",
       "0                            14 Penn Plaza LLC v. Pyett        1   \n",
       "1                            14 Penn Plaza LLC v. Pyett        1   \n",
       "2                                       Abbott v. Perez        2   \n",
       "3                                       Abbott v. Perez        2   \n",
       "4                               Abbott v. United States        3   \n",
       "5                               Abbott v. United States        3   \n",
       "6                             Abdul-Kabir v. Quarterman        4   \n",
       "7                             Abdul-Kabir v. Quarterman        4   \n",
       "8                                  Abdur_Rahman v. Bell        5   \n",
       "9                                  Abdur_Rahman v. Bell        5   \n",
       "10                            Abramski v. United States        6   \n",
       "11                           Abuelhawa v. United States        7   \n",
       "12                         Adams v. Florida Power Corp.        8   \n",
       "13                         Adams v. Florida Power Corp.        8   \n",
       "14                 Adarand Constructors, Inc. v. Mineta        9   \n",
       "15                 Adarand Constructors, Inc. v. Mineta        9   \n",
       "16                         Adoptive Couple v. Baby Girl       10   \n",
       "17                         Adoptive Couple v. Baby Girl       10   \n",
       "18            Advocate Health Care Network v. Stapleton       11   \n",
       "19            Advocate Health Care Network v. Stapleton       11   \n",
       "20                          Aetna Health Inc. v. Davila       12   \n",
       "21                          Aetna Health Inc. v. Davila       12   \n",
       "22                          Aetna Health Inc. v. Davila       12   \n",
       "23                          Aetna Health Inc. v. Davila       12   \n",
       "24    Agency for Int_l Development v. Alliance for O...       13   \n",
       "25    Agency for Int_l Development v. Alliance for O...       13   \n",
       "26               Air Wisconsin Airlines Corp. v. Hoeper       14   \n",
       "27               Air Wisconsin Airlines Corp. v. Hoeper       14   \n",
       "28                Air _ Liquid Systems Corp. v. DeVries       15   \n",
       "29    Alabama Dept. of Revenue v. CSX Transp., Inc.....       16   \n",
       "...                                                 ...      ...   \n",
       "3361                             Young v. United States     1293   \n",
       "3362                      Ysursa v. Pocatello Ed. Assn.     1294   \n",
       "3363                      Ysursa v. Pocatello Ed. Assn.     1294   \n",
       "3364                              Zadvydas v. Underdown     1295   \n",
       "3365                              Zadvydas v. Underdown     1295   \n",
       "3366                            Zedner v. United States     1296   \n",
       "3367                            Zedner v. United States     1296   \n",
       "3368                            Zedner v. United States     1296   \n",
       "3369                            Zedner v. United States     1296   \n",
       "3370                            Zedner v. United States     1296   \n",
       "3371                            Zedner v. United States     1296   \n",
       "3372                           Zelman v. Simmons-Harris     1297   \n",
       "3373                           Zelman v. Simmons-Harris     1297   \n",
       "3374                                   Ziglar v. Abbasi     1298   \n",
       "3375                              Zivotofsky v. Clinton     1299   \n",
       "3376                              Zivotofsky v. Clinton     1299   \n",
       "3377                              Zivotofsky v. Clinton     1299   \n",
       "3378                                Zivotofsky v. Kerry     1300   \n",
       "3379                                Zivotofsky v. Kerry     1300   \n",
       "3380                                Zivotofsky v. Kerry     1300   \n",
       "3381                                   Zubik v. Burwell     1301   \n",
       "3382                                   Zubik v. Burwell     1301   \n",
       "3383                                   Zubik v. Burwell     1301   \n",
       "3384                                   Zubik v. Burwell     1301   \n",
       "3385                                   Zubik v. Burwell     1301   \n",
       "3386  Zuni Public School Dist. v. Department of Educ...     1302   \n",
       "3387  Zuni Public School Dist. v. Department of Educ...     1302   \n",
       "3388  Zuni Public School Dist. v. Department of Educ...     1302   \n",
       "3389  Zuni Public School Dist. v. Department of Educ...     1302   \n",
       "3390  Zuni Public School Dist. v. Department of Educ...     1302   \n",
       "\n",
       "                                           act  \n",
       "0                                           NA  \n",
       "1                                           NA  \n",
       "2                        Help America Vote Act  \n",
       "3                            Voting Rights Act  \n",
       "4                                           NA  \n",
       "5                                           NA  \n",
       "6                                           NA  \n",
       "7                                           NA  \n",
       "8                                           NA  \n",
       "9                                           NA  \n",
       "10                                  Lanham Act  \n",
       "11                          Birth Abortion Act  \n",
       "12                                          NA  \n",
       "13                                          NA  \n",
       "14    Private Securities Litigation Reform Act  \n",
       "15                       Uniform Standards Act  \n",
       "16                                          NA  \n",
       "17                                          NA  \n",
       "18                Prison Litigation Reform Act  \n",
       "19         States Administrative Procedure Act  \n",
       "20                        Alaska Statehood Act  \n",
       "21                             Antiquities Act  \n",
       "22                         Submerged Lands Act  \n",
       "23                             Antiquities Act  \n",
       "24                                          NA  \n",
       "25                                          NA  \n",
       "26                                          NA  \n",
       "27                                          NA  \n",
       "28                   Texas Civil Procedure Act  \n",
       "29                   Armed Career Criminal Act  \n",
       "...                                        ...  \n",
       "3361                         Federal Power Act  \n",
       "3362                                        NA  \n",
       "3363                                        NA  \n",
       "3364                                        NA  \n",
       "3365                                        NA  \n",
       "3366             California Public Records Act  \n",
       "3367     Electronic Communications Privacy Act  \n",
       "3368                          Final Review Act  \n",
       "3369                               Storage Act  \n",
       "3370                 Stored Communications Act  \n",
       "3371                 Stored Communications Act  \n",
       "3372                                        NA  \n",
       "3373                                        NA  \n",
       "3374                              Cosmetic Act  \n",
       "3375                          Civil Rights Act  \n",
       "3376                          Open Housing Act  \n",
       "3377                         Voting Rights Act  \n",
       "3378                        Communications Act  \n",
       "3379                    Telecommunications Act  \n",
       "3380                                       Act  \n",
       "3381                            Bankruptcy Act  \n",
       "3382                          Civil Relief Act  \n",
       "3383                            Injunction Act  \n",
       "3384                                Relief Act  \n",
       "3385            South Carolina Tort Claims Act  \n",
       "3386                                   Air Act  \n",
       "3387                             Clean Air Act  \n",
       "3388                           Clean Water Act  \n",
       "3389                 Resource Conservation Act  \n",
       "3390                                 Water Act  \n",
       "\n",
       "[3391 rows x 3 columns]"
      ]
     },
     "execution_count": 1517,
     "metadata": {},
     "output_type": "execute_result"
    }
   ],
   "source": [
    "fixed"
   ]
  },
  {
   "cell_type": "code",
   "execution_count": null,
   "metadata": {},
   "outputs": [],
   "source": []
  }
 ],
 "metadata": {
  "kernelspec": {
   "display_name": "Python 3",
   "language": "python",
   "name": "python3"
  },
  "language_info": {
   "codemirror_mode": {
    "name": "ipython",
    "version": 3
   },
   "file_extension": ".py",
   "mimetype": "text/x-python",
   "name": "python",
   "nbconvert_exporter": "python",
   "pygments_lexer": "ipython3",
   "version": "3.6.5"
  }
 },
 "nbformat": 4,
 "nbformat_minor": 2
}
