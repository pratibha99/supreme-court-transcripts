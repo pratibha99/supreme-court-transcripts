{
 "cells": [
  {
   "cell_type": "markdown",
   "metadata": {},
   "source": [
    "# SQL Queries \n",
    "\n",
    "**This notebook has work on writing queries for the supreme court database.**"
   ]
  },
  {
   "cell_type": "code",
   "execution_count": 60,
   "metadata": {},
   "outputs": [],
   "source": [
    "# Run the lines below if you don't have the packages installed.\n",
    "\n",
    "#!pip install sqlalchemy\n",
    "#!pip install ipython-sql\n"
   ]
  },
  {
   "cell_type": "code",
   "execution_count": 139,
   "metadata": {},
   "outputs": [],
   "source": [
    "import sqlite3\n",
    "import pandas as pd\n",
    "from sqlalchemy.engine import create_engine\n",
    "\n",
    "#engine = create_engine('postgresql://Avena Cheng@localhost:8888/tree/Desktop/Liberating Archives/supreme-court-transcripts/database.db')\n",
    "#psycopg2.connect(link_conn_string)\n",
    "#df = pd.read_sql('select * from cases limit 1', engine)\n",
    "#df.head()\n",
    "\n",
    "# Create the connection\n",
    "con = sqlite3.connect(r'C:\\Users\\Avena Cheng\\Desktop\\Liberating Archives\\supreme-court-transcripts\\database.db')\n",
    "\n",
    "# cursor will allow us to execute SQL queries against a db\n",
    "cur = con.cursor()"
   ]
  },
  {
   "cell_type": "code",
   "execution_count": 140,
   "metadata": {},
   "outputs": [],
   "source": [
    "s = pd.read_csv('speeches_db.csv').drop('Unnamed: 0',axis=1)"
   ]
  },
  {
   "cell_type": "code",
   "execution_count": 141,
   "metadata": {},
   "outputs": [
    {
     "data": {
      "text/html": [
       "<div>\n",
       "<style scoped>\n",
       "    .dataframe tbody tr th:only-of-type {\n",
       "        vertical-align: middle;\n",
       "    }\n",
       "\n",
       "    .dataframe tbody tr th {\n",
       "        vertical-align: top;\n",
       "    }\n",
       "\n",
       "    .dataframe thead th {\n",
       "        text-align: right;\n",
       "    }\n",
       "</style>\n",
       "<table border=\"1\" class=\"dataframe\">\n",
       "  <thead>\n",
       "    <tr style=\"text-align: right;\">\n",
       "      <th></th>\n",
       "      <th>case</th>\n",
       "      <th>case_id</th>\n",
       "      <th>name</th>\n",
       "      <th>text</th>\n",
       "    </tr>\n",
       "  </thead>\n",
       "  <tbody>\n",
       "    <tr>\n",
       "      <th>0</th>\n",
       "      <td>14 Penn Plaza LLC v. Pyett</td>\n",
       "      <td>1</td>\n",
       "      <td>PAUL SALVATORE</td>\n",
       "      <td>Thank you, Mr. Chief Justice, and may it plea...</td>\n",
       "    </tr>\n",
       "  </tbody>\n",
       "</table>\n",
       "</div>"
      ],
      "text/plain": [
       "                         case  case_id            name  \\\n",
       "0  14 Penn Plaza LLC v. Pyett        1  PAUL SALVATORE   \n",
       "\n",
       "                                                text  \n",
       "0   Thank you, Mr. Chief Justice, and may it plea...  "
      ]
     },
     "execution_count": 141,
     "metadata": {},
     "output_type": "execute_result"
    }
   ],
   "source": [
    "s.head(1)"
   ]
  },
  {
   "cell_type": "code",
   "execution_count": 142,
   "metadata": {},
   "outputs": [],
   "source": [
    "c = pd.read_csv(r'C:\\Users\\Avena Cheng\\Desktop\\Liberating Archives\\supreme-court-transcripts\\cases.csv').drop('Unnamed: 0',axis=1)"
   ]
  },
  {
   "cell_type": "code",
   "execution_count": 143,
   "metadata": {},
   "outputs": [
    {
     "data": {
      "text/plain": [
       "'2008-12-01'"
      ]
     },
     "execution_count": 143,
     "metadata": {},
     "output_type": "execute_result"
    }
   ],
   "source": [
    "c.iloc[0]['date'] "
   ]
  },
  {
   "cell_type": "code",
   "execution_count": 68,
   "metadata": {},
   "outputs": [
    {
     "data": {
      "text/plain": [
       "('agreement', '14 Penn Plaza LLC v. Pyett')"
      ]
     },
     "execution_count": 68,
     "metadata": {},
     "output_type": "execute_result"
    }
   ],
   "source": [
    "r = cur.execute(\"select keywords.words,cases.title from cases inner join keywords on cases.case_id == keywords.case_id;\").fetchall()\n",
    "r[0]"
   ]
  },
  {
   "cell_type": "code",
   "execution_count": 69,
   "metadata": {},
   "outputs": [],
   "source": [
    "b = pd.read_csv(r\"C:\\Users\\Avena Cheng\\Desktop\\Liberating Archives\\supreme-court-transcripts\\bills.csv\").drop('Unnamed: 0',axis=1)"
   ]
  },
  {
   "cell_type": "code",
   "execution_count": 180,
   "metadata": {},
   "outputs": [
    {
     "data": {
      "text/html": [
       "<div>\n",
       "<style scoped>\n",
       "    .dataframe tbody tr th:only-of-type {\n",
       "        vertical-align: middle;\n",
       "    }\n",
       "\n",
       "    .dataframe tbody tr th {\n",
       "        vertical-align: top;\n",
       "    }\n",
       "\n",
       "    .dataframe thead th {\n",
       "        text-align: right;\n",
       "    }\n",
       "</style>\n",
       "<table border=\"1\" class=\"dataframe\">\n",
       "  <thead>\n",
       "    <tr style=\"text-align: right;\">\n",
       "      <th></th>\n",
       "      <th>Case</th>\n",
       "      <th>Case_ID</th>\n",
       "      <th>Name</th>\n",
       "      <th>Speech</th>\n",
       "      <th>Sentiment Score</th>\n",
       "    </tr>\n",
       "  </thead>\n",
       "  <tbody>\n",
       "    <tr>\n",
       "      <th>0</th>\n",
       "      <td>14 Penn Plaza LLC v. Pyett</td>\n",
       "      <td>1</td>\n",
       "      <td>PAUL SALVATORE</td>\n",
       "      <td>Thank you, Mr. Chief Justice, and may it plea...</td>\n",
       "      <td>0.9998</td>\n",
       "    </tr>\n",
       "  </tbody>\n",
       "</table>\n",
       "</div>"
      ],
      "text/plain": [
       "                         Case  Case_ID            Name  \\\n",
       "0  14 Penn Plaza LLC v. Pyett        1  PAUL SALVATORE   \n",
       "\n",
       "                                              Speech  Sentiment Score  \n",
       "0   Thank you, Mr. Chief Justice, and may it plea...           0.9998  "
      ]
     },
     "execution_count": 180,
     "metadata": {},
     "output_type": "execute_result"
    }
   ],
   "source": [
    "sent = pd.read_csv(r\"C:\\Users\\Avena Cheng\\Desktop\\Liberating Archives\\supreme-court-transcripts\\sentiment_compound.csv\")\n",
    "sent = sent[['Case','Case_ID','Name','Speech','Sentiment Score']]\n",
    "sent.head(1)"
   ]
  },
  {
   "cell_type": "markdown",
   "metadata": {},
   "source": [
    "### All records query"
   ]
  },
  {
   "cell_type": "code",
   "execution_count": 146,
   "metadata": {},
   "outputs": [],
   "source": [
    "# for some reason it creates duplicates\n",
    "all_records = cur.execute(\"SELECT cases.title,cases.date,bills.act,cases.top5,speech.name,speech.text FROM (cases INNER JOIN bills ON cases.case_id = bills.case_id) as cases INNER JOIN speech ON cases.case_id = speech.case_id;\").fetchall()"
   ]
  },
  {
   "cell_type": "code",
   "execution_count": 147,
   "metadata": {},
   "outputs": [],
   "source": [
    "title = []\n",
    "date = []\n",
    "text = []\n",
    "person = []\n",
    "act = []\n",
    "keywords = []\n",
    "for i in range(len(all_records)):\n",
    "    title += [all_records[i][0]]\n",
    "    date += [all_records[i][1]]\n",
    "    act += [all_records[i][2]]\n",
    "    keywords += [all_records[i][3]]\n",
    "    person += [all_records[i][4]]\n",
    "    text +=[all_records[i][5]]\n",
    "df = pd.DataFrame({'title':title,'date':date,'act':act,'keywords':keywords,'person':person,'text':text})"
   ]
  },
  {
   "cell_type": "code",
   "execution_count": 148,
   "metadata": {},
   "outputs": [
    {
     "data": {
      "text/plain": [
       "28928"
      ]
     },
     "execution_count": 148,
     "metadata": {},
     "output_type": "execute_result"
    }
   ],
   "source": [
    "len(all_records)"
   ]
  },
  {
   "cell_type": "code",
   "execution_count": 149,
   "metadata": {},
   "outputs": [
    {
     "data": {
      "text/html": [
       "<div>\n",
       "<style scoped>\n",
       "    .dataframe tbody tr th:only-of-type {\n",
       "        vertical-align: middle;\n",
       "    }\n",
       "\n",
       "    .dataframe tbody tr th {\n",
       "        vertical-align: top;\n",
       "    }\n",
       "\n",
       "    .dataframe thead th {\n",
       "        text-align: right;\n",
       "    }\n",
       "</style>\n",
       "<table border=\"1\" class=\"dataframe\">\n",
       "  <thead>\n",
       "    <tr style=\"text-align: right;\">\n",
       "      <th></th>\n",
       "      <th>title</th>\n",
       "      <th>date</th>\n",
       "      <th>act</th>\n",
       "      <th>keywords</th>\n",
       "      <th>person</th>\n",
       "      <th>text</th>\n",
       "    </tr>\n",
       "  </thead>\n",
       "  <tbody>\n",
       "    <tr>\n",
       "      <th>0</th>\n",
       "      <td>14 Penn Plaza LLC v. Pyett</td>\n",
       "      <td>2008-12-01 00:00:00</td>\n",
       "      <td>NA</td>\n",
       "      <td>union, arbitration, bargaining, individual, co...</td>\n",
       "      <td>CURTIS E. GANNON</td>\n",
       "      <td>Mr. Chief Justice, and may it please the Cour...</td>\n",
       "    </tr>\n",
       "    <tr>\n",
       "      <th>1</th>\n",
       "      <td>14 Penn Plaza LLC v. Pyett</td>\n",
       "      <td>2008-12-01 00:00:00</td>\n",
       "      <td>NA</td>\n",
       "      <td>union, arbitration, bargaining, individual, co...</td>\n",
       "      <td>DAVID C. FREDERICK</td>\n",
       "      <td>Thank you, Mr. Chief Justice, and may it plea...</td>\n",
       "    </tr>\n",
       "    <tr>\n",
       "      <th>2</th>\n",
       "      <td>14 Penn Plaza LLC v. Pyett</td>\n",
       "      <td>2008-12-01 00:00:00</td>\n",
       "      <td>NA</td>\n",
       "      <td>union, arbitration, bargaining, individual, co...</td>\n",
       "      <td>JUSTICE ALITO</td>\n",
       "      <td>Has any court decided this issue of the inter...</td>\n",
       "    </tr>\n",
       "    <tr>\n",
       "      <th>3</th>\n",
       "      <td>14 Penn Plaza LLC v. Pyett</td>\n",
       "      <td>2008-12-01 00:00:00</td>\n",
       "      <td>NA</td>\n",
       "      <td>union, arbitration, bargaining, individual, co...</td>\n",
       "      <td>JUSTICE BREYER</td>\n",
       "      <td>I ask you -- let me ask you a naive question ...</td>\n",
       "    </tr>\n",
       "    <tr>\n",
       "      <th>4</th>\n",
       "      <td>14 Penn Plaza LLC v. Pyett</td>\n",
       "      <td>2008-12-01 00:00:00</td>\n",
       "      <td>NA</td>\n",
       "      <td>union, arbitration, bargaining, individual, co...</td>\n",
       "      <td>JUSTICE GINSBURG</td>\n",
       "      <td>But here it wasn't.     . Here we are dealing...</td>\n",
       "    </tr>\n",
       "    <tr>\n",
       "      <th>5</th>\n",
       "      <td>14 Penn Plaza LLC v. Pyett</td>\n",
       "      <td>2008-12-01 00:00:00</td>\n",
       "      <td>NA</td>\n",
       "      <td>union, arbitration, bargaining, individual, co...</td>\n",
       "      <td>JUSTICE KENNEDY</td>\n",
       "      <td>Yes. What -- what - . I don't -- I don't wish...</td>\n",
       "    </tr>\n",
       "    <tr>\n",
       "      <th>6</th>\n",
       "      <td>14 Penn Plaza LLC v. Pyett</td>\n",
       "      <td>2008-12-01 00:00:00</td>\n",
       "      <td>NA</td>\n",
       "      <td>union, arbitration, bargaining, individual, co...</td>\n",
       "      <td>JUSTICE ROBERTS</td>\n",
       "      <td>We'll hear argument next in Case -, Penn Plaz...</td>\n",
       "    </tr>\n",
       "    <tr>\n",
       "      <th>7</th>\n",
       "      <td>14 Penn Plaza LLC v. Pyett</td>\n",
       "      <td>2008-12-01 00:00:00</td>\n",
       "      <td>NA</td>\n",
       "      <td>union, arbitration, bargaining, individual, co...</td>\n",
       "      <td>JUSTICE SCALIA</td>\n",
       "      <td>Is this included in the question presented an...</td>\n",
       "    </tr>\n",
       "    <tr>\n",
       "      <th>8</th>\n",
       "      <td>14 Penn Plaza LLC v. Pyett</td>\n",
       "      <td>2008-12-01 00:00:00</td>\n",
       "      <td>NA</td>\n",
       "      <td>union, arbitration, bargaining, individual, co...</td>\n",
       "      <td>JUSTICE SOUTER</td>\n",
       "      <td>Mr. Salvatore, you take the position that the...</td>\n",
       "    </tr>\n",
       "    <tr>\n",
       "      <th>9</th>\n",
       "      <td>14 Penn Plaza LLC v. Pyett</td>\n",
       "      <td>2008-12-01 00:00:00</td>\n",
       "      <td>NA</td>\n",
       "      <td>union, arbitration, bargaining, individual, co...</td>\n",
       "      <td>JUSTICE STEVENS</td>\n",
       "      <td>Mr. Salvatore, are you going to get to your e...</td>\n",
       "    </tr>\n",
       "    <tr>\n",
       "      <th>10</th>\n",
       "      <td>14 Penn Plaza LLC v. Pyett</td>\n",
       "      <td>2008-12-01 00:00:00</td>\n",
       "      <td>NA</td>\n",
       "      <td>union, arbitration, bargaining, individual, co...</td>\n",
       "      <td>PAUL SALVATORE</td>\n",
       "      <td>Thank you, Mr. Chief Justice, and may it plea...</td>\n",
       "    </tr>\n",
       "    <tr>\n",
       "      <th>11</th>\n",
       "      <td>14 Penn Plaza LLC v. Pyett</td>\n",
       "      <td>2008-12-01 00:00:00</td>\n",
       "      <td>NA</td>\n",
       "      <td>union, arbitration, bargaining, individual, co...</td>\n",
       "      <td>CURTIS E. GANNON</td>\n",
       "      <td>Mr. Chief Justice, and may it please the Cour...</td>\n",
       "    </tr>\n",
       "    <tr>\n",
       "      <th>12</th>\n",
       "      <td>14 Penn Plaza LLC v. Pyett</td>\n",
       "      <td>2008-12-01 00:00:00</td>\n",
       "      <td>NA</td>\n",
       "      <td>union, arbitration, bargaining, individual, co...</td>\n",
       "      <td>DAVID C. FREDERICK</td>\n",
       "      <td>Thank you, Mr. Chief Justice, and may it plea...</td>\n",
       "    </tr>\n",
       "    <tr>\n",
       "      <th>13</th>\n",
       "      <td>14 Penn Plaza LLC v. Pyett</td>\n",
       "      <td>2008-12-01 00:00:00</td>\n",
       "      <td>NA</td>\n",
       "      <td>union, arbitration, bargaining, individual, co...</td>\n",
       "      <td>JUSTICE ALITO</td>\n",
       "      <td>Has any court decided this issue of the inter...</td>\n",
       "    </tr>\n",
       "    <tr>\n",
       "      <th>14</th>\n",
       "      <td>14 Penn Plaza LLC v. Pyett</td>\n",
       "      <td>2008-12-01 00:00:00</td>\n",
       "      <td>NA</td>\n",
       "      <td>union, arbitration, bargaining, individual, co...</td>\n",
       "      <td>JUSTICE BREYER</td>\n",
       "      <td>I ask you -- let me ask you a naive question ...</td>\n",
       "    </tr>\n",
       "    <tr>\n",
       "      <th>15</th>\n",
       "      <td>14 Penn Plaza LLC v. Pyett</td>\n",
       "      <td>2008-12-01 00:00:00</td>\n",
       "      <td>NA</td>\n",
       "      <td>union, arbitration, bargaining, individual, co...</td>\n",
       "      <td>JUSTICE GINSBURG</td>\n",
       "      <td>But here it wasn't.     . Here we are dealing...</td>\n",
       "    </tr>\n",
       "    <tr>\n",
       "      <th>16</th>\n",
       "      <td>14 Penn Plaza LLC v. Pyett</td>\n",
       "      <td>2008-12-01 00:00:00</td>\n",
       "      <td>NA</td>\n",
       "      <td>union, arbitration, bargaining, individual, co...</td>\n",
       "      <td>JUSTICE KENNEDY</td>\n",
       "      <td>Yes. What -- what - . I don't -- I don't wish...</td>\n",
       "    </tr>\n",
       "    <tr>\n",
       "      <th>17</th>\n",
       "      <td>14 Penn Plaza LLC v. Pyett</td>\n",
       "      <td>2008-12-01 00:00:00</td>\n",
       "      <td>NA</td>\n",
       "      <td>union, arbitration, bargaining, individual, co...</td>\n",
       "      <td>JUSTICE ROBERTS</td>\n",
       "      <td>We'll hear argument next in Case -, Penn Plaz...</td>\n",
       "    </tr>\n",
       "    <tr>\n",
       "      <th>18</th>\n",
       "      <td>14 Penn Plaza LLC v. Pyett</td>\n",
       "      <td>2008-12-01 00:00:00</td>\n",
       "      <td>NA</td>\n",
       "      <td>union, arbitration, bargaining, individual, co...</td>\n",
       "      <td>JUSTICE SCALIA</td>\n",
       "      <td>Is this included in the question presented an...</td>\n",
       "    </tr>\n",
       "    <tr>\n",
       "      <th>19</th>\n",
       "      <td>14 Penn Plaza LLC v. Pyett</td>\n",
       "      <td>2008-12-01 00:00:00</td>\n",
       "      <td>NA</td>\n",
       "      <td>union, arbitration, bargaining, individual, co...</td>\n",
       "      <td>JUSTICE SOUTER</td>\n",
       "      <td>Mr. Salvatore, you take the position that the...</td>\n",
       "    </tr>\n",
       "    <tr>\n",
       "      <th>20</th>\n",
       "      <td>14 Penn Plaza LLC v. Pyett</td>\n",
       "      <td>2008-12-01 00:00:00</td>\n",
       "      <td>NA</td>\n",
       "      <td>union, arbitration, bargaining, individual, co...</td>\n",
       "      <td>JUSTICE STEVENS</td>\n",
       "      <td>Mr. Salvatore, are you going to get to your e...</td>\n",
       "    </tr>\n",
       "    <tr>\n",
       "      <th>21</th>\n",
       "      <td>14 Penn Plaza LLC v. Pyett</td>\n",
       "      <td>2008-12-01 00:00:00</td>\n",
       "      <td>NA</td>\n",
       "      <td>union, arbitration, bargaining, individual, co...</td>\n",
       "      <td>PAUL SALVATORE</td>\n",
       "      <td>Thank you, Mr. Chief Justice, and may it plea...</td>\n",
       "    </tr>\n",
       "  </tbody>\n",
       "</table>\n",
       "</div>"
      ],
      "text/plain": [
       "                         title                 date act  \\\n",
       "0   14 Penn Plaza LLC v. Pyett  2008-12-01 00:00:00  NA   \n",
       "1   14 Penn Plaza LLC v. Pyett  2008-12-01 00:00:00  NA   \n",
       "2   14 Penn Plaza LLC v. Pyett  2008-12-01 00:00:00  NA   \n",
       "3   14 Penn Plaza LLC v. Pyett  2008-12-01 00:00:00  NA   \n",
       "4   14 Penn Plaza LLC v. Pyett  2008-12-01 00:00:00  NA   \n",
       "5   14 Penn Plaza LLC v. Pyett  2008-12-01 00:00:00  NA   \n",
       "6   14 Penn Plaza LLC v. Pyett  2008-12-01 00:00:00  NA   \n",
       "7   14 Penn Plaza LLC v. Pyett  2008-12-01 00:00:00  NA   \n",
       "8   14 Penn Plaza LLC v. Pyett  2008-12-01 00:00:00  NA   \n",
       "9   14 Penn Plaza LLC v. Pyett  2008-12-01 00:00:00  NA   \n",
       "10  14 Penn Plaza LLC v. Pyett  2008-12-01 00:00:00  NA   \n",
       "11  14 Penn Plaza LLC v. Pyett  2008-12-01 00:00:00  NA   \n",
       "12  14 Penn Plaza LLC v. Pyett  2008-12-01 00:00:00  NA   \n",
       "13  14 Penn Plaza LLC v. Pyett  2008-12-01 00:00:00  NA   \n",
       "14  14 Penn Plaza LLC v. Pyett  2008-12-01 00:00:00  NA   \n",
       "15  14 Penn Plaza LLC v. Pyett  2008-12-01 00:00:00  NA   \n",
       "16  14 Penn Plaza LLC v. Pyett  2008-12-01 00:00:00  NA   \n",
       "17  14 Penn Plaza LLC v. Pyett  2008-12-01 00:00:00  NA   \n",
       "18  14 Penn Plaza LLC v. Pyett  2008-12-01 00:00:00  NA   \n",
       "19  14 Penn Plaza LLC v. Pyett  2008-12-01 00:00:00  NA   \n",
       "20  14 Penn Plaza LLC v. Pyett  2008-12-01 00:00:00  NA   \n",
       "21  14 Penn Plaza LLC v. Pyett  2008-12-01 00:00:00  NA   \n",
       "\n",
       "                                             keywords              person  \\\n",
       "0   union, arbitration, bargaining, individual, co...    CURTIS E. GANNON   \n",
       "1   union, arbitration, bargaining, individual, co...  DAVID C. FREDERICK   \n",
       "2   union, arbitration, bargaining, individual, co...       JUSTICE ALITO   \n",
       "3   union, arbitration, bargaining, individual, co...      JUSTICE BREYER   \n",
       "4   union, arbitration, bargaining, individual, co...    JUSTICE GINSBURG   \n",
       "5   union, arbitration, bargaining, individual, co...     JUSTICE KENNEDY   \n",
       "6   union, arbitration, bargaining, individual, co...     JUSTICE ROBERTS   \n",
       "7   union, arbitration, bargaining, individual, co...      JUSTICE SCALIA   \n",
       "8   union, arbitration, bargaining, individual, co...      JUSTICE SOUTER   \n",
       "9   union, arbitration, bargaining, individual, co...     JUSTICE STEVENS   \n",
       "10  union, arbitration, bargaining, individual, co...      PAUL SALVATORE   \n",
       "11  union, arbitration, bargaining, individual, co...    CURTIS E. GANNON   \n",
       "12  union, arbitration, bargaining, individual, co...  DAVID C. FREDERICK   \n",
       "13  union, arbitration, bargaining, individual, co...       JUSTICE ALITO   \n",
       "14  union, arbitration, bargaining, individual, co...      JUSTICE BREYER   \n",
       "15  union, arbitration, bargaining, individual, co...    JUSTICE GINSBURG   \n",
       "16  union, arbitration, bargaining, individual, co...     JUSTICE KENNEDY   \n",
       "17  union, arbitration, bargaining, individual, co...     JUSTICE ROBERTS   \n",
       "18  union, arbitration, bargaining, individual, co...      JUSTICE SCALIA   \n",
       "19  union, arbitration, bargaining, individual, co...      JUSTICE SOUTER   \n",
       "20  union, arbitration, bargaining, individual, co...     JUSTICE STEVENS   \n",
       "21  union, arbitration, bargaining, individual, co...      PAUL SALVATORE   \n",
       "\n",
       "                                                 text  \n",
       "0    Mr. Chief Justice, and may it please the Cour...  \n",
       "1    Thank you, Mr. Chief Justice, and may it plea...  \n",
       "2    Has any court decided this issue of the inter...  \n",
       "3    I ask you -- let me ask you a naive question ...  \n",
       "4    But here it wasn't.     . Here we are dealing...  \n",
       "5    Yes. What -- what - . I don't -- I don't wish...  \n",
       "6    We'll hear argument next in Case -, Penn Plaz...  \n",
       "7    Is this included in the question presented an...  \n",
       "8    Mr. Salvatore, you take the position that the...  \n",
       "9    Mr. Salvatore, are you going to get to your e...  \n",
       "10   Thank you, Mr. Chief Justice, and may it plea...  \n",
       "11   Mr. Chief Justice, and may it please the Cour...  \n",
       "12   Thank you, Mr. Chief Justice, and may it plea...  \n",
       "13   Has any court decided this issue of the inter...  \n",
       "14   I ask you -- let me ask you a naive question ...  \n",
       "15   But here it wasn't.     . Here we are dealing...  \n",
       "16   Yes. What -- what - . I don't -- I don't wish...  \n",
       "17   We'll hear argument next in Case -, Penn Plaz...  \n",
       "18   Is this included in the question presented an...  \n",
       "19   Mr. Salvatore, you take the position that the...  \n",
       "20   Mr. Salvatore, are you going to get to your e...  \n",
       "21   Thank you, Mr. Chief Justice, and may it plea...  "
      ]
     },
     "execution_count": 149,
     "metadata": {},
     "output_type": "execute_result"
    }
   ],
   "source": [
    "# If you notice, the first 11 row are what we want to keep, but the last 11 rows are repeats.\n",
    "df.iloc[:22]"
   ]
  },
  {
   "cell_type": "code",
   "execution_count": 111,
   "metadata": {},
   "outputs": [
    {
     "data": {
      "text/plain": [
       "37301"
      ]
     },
     "execution_count": 111,
     "metadata": {},
     "output_type": "execute_result"
    }
   ],
   "source": [
    "len(df)"
   ]
  },
  {
   "cell_type": "code",
   "execution_count": 132,
   "metadata": {},
   "outputs": [],
   "source": [
    "#all_records[0]"
   ]
  },
  {
   "cell_type": "code",
   "execution_count": 24,
   "metadata": {},
   "outputs": [
    {
     "ename": "ProgrammingError",
     "evalue": "Cannot operate on a closed database.",
     "output_type": "error",
     "traceback": [
      "\u001b[1;31m---------------------------------------------------------------------------\u001b[0m",
      "\u001b[1;31mProgrammingError\u001b[0m                          Traceback (most recent call last)",
      "\u001b[1;32m<ipython-input-24-239d5372d976>\u001b[0m in \u001b[0;36m<module>\u001b[1;34m()\u001b[0m\n\u001b[1;32m----> 1\u001b[1;33m \u001b[0mcur\u001b[0m\u001b[1;33m.\u001b[0m\u001b[0mclose\u001b[0m\u001b[1;33m(\u001b[0m\u001b[1;33m)\u001b[0m\u001b[1;33m\u001b[0m\u001b[0m\n\u001b[0m\u001b[0;32m      2\u001b[0m \u001b[0mcon\u001b[0m\u001b[1;33m.\u001b[0m\u001b[0mclose\u001b[0m\u001b[1;33m(\u001b[0m\u001b[1;33m)\u001b[0m\u001b[1;33m\u001b[0m\u001b[0m\n",
      "\u001b[1;31mProgrammingError\u001b[0m: Cannot operate on a closed database."
     ]
    }
   ],
   "source": [
    "cur.close()\n",
    "con.close()"
   ]
  },
  {
   "cell_type": "code",
   "execution_count": null,
   "metadata": {},
   "outputs": [],
   "source": []
  }
 ],
 "metadata": {
  "kernelspec": {
   "display_name": "Python 3",
   "language": "python",
   "name": "python3"
  },
  "language_info": {
   "codemirror_mode": {
    "name": "ipython",
    "version": 3
   },
   "file_extension": ".py",
   "mimetype": "text/x-python",
   "name": "python",
   "nbconvert_exporter": "python",
   "pygments_lexer": "ipython3",
   "version": "3.6.5"
  }
 },
 "nbformat": 4,
 "nbformat_minor": 2
}
